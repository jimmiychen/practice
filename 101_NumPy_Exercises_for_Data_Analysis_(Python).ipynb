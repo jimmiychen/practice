{
  "nbformat": 4,
  "nbformat_minor": 0,
  "metadata": {
    "colab": {
      "name": "101 NumPy Exercises for Data Analysis (Python).ipynb",
      "provenance": [],
      "collapsed_sections": [],
      "authorship_tag": "ABX9TyOaT5as4kz8PQx2o51GC359",
      "include_colab_link": true
    },
    "kernelspec": {
      "name": "python3",
      "display_name": "Python 3"
    },
    "language_info": {
      "name": "python"
    }
  },
  "cells": [
    {
      "cell_type": "markdown",
      "metadata": {
        "id": "view-in-github",
        "colab_type": "text"
      },
      "source": [
        "<a href=\"https://colab.research.google.com/github/jimmiychen/practice/blob/main/101_NumPy_Exercises_for_Data_Analysis_(Python).ipynb\" target=\"_parent\"><img src=\"https://colab.research.google.com/assets/colab-badge.svg\" alt=\"Open In Colab\"/></a>"
      ]
    },
    {
      "cell_type": "markdown",
      "metadata": {
        "id": "EhQCajtPyrte"
      },
      "source": [
        "# **101 NumPy Exercises for Data Analysis (Python)**"
      ]
    },
    {
      "cell_type": "markdown",
      "metadata": {
        "id": "5DJNe24Xy1f6"
      },
      "source": [
        "## **1. Import numpy as np and see the version**\n",
        "Difficulty Level: L1\n",
        "\n",
        "Q. Import numpy as np and print the version number."
      ]
    },
    {
      "cell_type": "code",
      "metadata": {
        "colab": {
          "base_uri": "https://localhost:8080/"
        },
        "id": "BWkVqjoZy8f8",
        "outputId": "66c349e0-ea4a-41ed-c221-415bbbcbf3ab"
      },
      "source": [
        "import numpy as np\n",
        "\n",
        "print(np.__version__)"
      ],
      "execution_count": 1,
      "outputs": [
        {
          "output_type": "stream",
          "name": "stdout",
          "text": [
            "1.19.5\n"
          ]
        }
      ]
    },
    {
      "cell_type": "markdown",
      "metadata": {
        "id": "99Bb0B0qz6BM"
      },
      "source": [
        "## **2. How to create a 1D array?**\n",
        "Difficulty Level: L1\n",
        "\n",
        "Q. Create a 1D array of numbers from 0 to 9"
      ]
    },
    {
      "cell_type": "code",
      "metadata": {
        "colab": {
          "base_uri": "https://localhost:8080/"
        },
        "id": "FWROsKIsz-jc",
        "outputId": "22543ab2-a42e-4fb0-d7f3-9ec475a32cb7"
      },
      "source": [
        "a=np.arange(10)\n",
        "print(a)"
      ],
      "execution_count": 3,
      "outputs": [
        {
          "output_type": "stream",
          "name": "stdout",
          "text": [
            "[0 1 2 3 4 5 6 7 8 9]\n"
          ]
        }
      ]
    },
    {
      "cell_type": "markdown",
      "metadata": {
        "id": "ta9FVcuP0VDD"
      },
      "source": [
        "## **3. How to create a boolean array?**\n",
        "Difficulty Level: L1\n",
        "\n",
        "Q. Create a 3×3 numpy array of all True’s"
      ]
    },
    {
      "cell_type": "code",
      "metadata": {
        "colab": {
          "base_uri": "https://localhost:8080/"
        },
        "id": "2jhDIuTo0Ztb",
        "outputId": "43042c58-4820-43fa-a26f-04b50882645a"
      },
      "source": [
        "a=np.ones((3,3),dtype=bool)\n",
        "print(a,\"\\n\")\n",
        "b=np.full((3,3),True,dtype=bool)\n",
        "print(b)"
      ],
      "execution_count": 5,
      "outputs": [
        {
          "output_type": "stream",
          "name": "stdout",
          "text": [
            "[[ True  True  True]\n",
            " [ True  True  True]\n",
            " [ True  True  True]] \n",
            "\n",
            "[[ True  True  True]\n",
            " [ True  True  True]\n",
            " [ True  True  True]]\n"
          ]
        }
      ]
    },
    {
      "cell_type": "markdown",
      "metadata": {
        "id": "OrUS_K0U01jj"
      },
      "source": [
        "# **4. How to extract items that satisfy a given condition from 1D array?**\n",
        "Difficulty Level: L1\n",
        "\n",
        "Q. Extract all odd numbers from arr"
      ]
    },
    {
      "cell_type": "code",
      "metadata": {
        "colab": {
          "base_uri": "https://localhost:8080/"
        },
        "id": "Q2rLrUC61FdI",
        "outputId": "e35f2ac9-0cd9-47c6-da94-a251b44c7377"
      },
      "source": [
        "a=np.arange(10)\n",
        "print(a,\"\\n\")\n",
        "a=a[a%2==1]\n",
        "print(a)"
      ],
      "execution_count": 7,
      "outputs": [
        {
          "output_type": "stream",
          "name": "stdout",
          "text": [
            "[0 1 2 3 4 5 6 7 8 9] \n",
            "\n",
            "[1 3 5 7 9]\n"
          ]
        }
      ]
    },
    {
      "cell_type": "markdown",
      "metadata": {
        "id": "Cfr4tCPr1zib"
      },
      "source": [
        "# **5. How to replace items that satisfy a condition with another value in numpy array?**\n",
        "Difficulty Level: L1\n",
        "\n",
        "Q. Replace all odd numbers in arr with -1"
      ]
    },
    {
      "cell_type": "code",
      "metadata": {
        "colab": {
          "base_uri": "https://localhost:8080/"
        },
        "id": "0_OisXmg15Mx",
        "outputId": "1ffc137e-842e-44aa-e97d-7e5b67346507"
      },
      "source": [
        "a=np.arange(10)\n",
        "print(a,\"\\n\")\n",
        "a[a[a%2==1]]=-1\n",
        "print(a)"
      ],
      "execution_count": 8,
      "outputs": [
        {
          "output_type": "stream",
          "name": "stdout",
          "text": [
            "[0 1 2 3 4 5 6 7 8 9] \n",
            "\n",
            "[ 0 -1  2 -1  4 -1  6 -1  8 -1]\n"
          ]
        }
      ]
    },
    {
      "cell_type": "markdown",
      "metadata": {
        "id": "--jfZsz02V_6"
      },
      "source": [
        "# **6. How to replace items that satisfy a condition without affecting the original array?**\n",
        "Difficulty Level: L2\n",
        "\n",
        "Q. Replace all odd numbers in arr with -1 without changing arr"
      ]
    },
    {
      "cell_type": "code",
      "metadata": {
        "id": "Lxmc6rhf2YQa"
      },
      "source": [
        ""
      ],
      "execution_count": null,
      "outputs": []
    }
  ]
}