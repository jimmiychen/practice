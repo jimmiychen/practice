{
  "nbformat": 4,
  "nbformat_minor": 0,
  "metadata": {
    "colab": {
      "name": "101 NumPy Exercises for Data Analysis (Python).ipynb",
      "provenance": [],
      "collapsed_sections": [],
      "authorship_tag": "ABX9TyNAHy9Mnrc7qKtcCljirOE+",
      "include_colab_link": true
    },
    "kernelspec": {
      "name": "python3",
      "display_name": "Python 3"
    },
    "language_info": {
      "name": "python"
    }
  },
  "cells": [
    {
      "cell_type": "markdown",
      "metadata": {
        "id": "view-in-github",
        "colab_type": "text"
      },
      "source": [
        "<a href=\"https://colab.research.google.com/github/jimmiychen/practice/blob/main/101_NumPy_Exercises_for_Data_Analysis_(Python).ipynb\" target=\"_parent\"><img src=\"https://colab.research.google.com/assets/colab-badge.svg\" alt=\"Open In Colab\"/></a>"
      ]
    },
    {
      "cell_type": "markdown",
      "metadata": {
        "id": "EhQCajtPyrte"
      },
      "source": [
        "# **101 NumPy Exercises for Data Analysis (Python)**"
      ]
    },
    {
      "cell_type": "markdown",
      "metadata": {
        "id": "5DJNe24Xy1f6"
      },
      "source": [
        "## **1. Import numpy as np and see the version**\n",
        "Difficulty Level: L1\n",
        "\n",
        "Q. Import numpy as np and print the version number."
      ]
    },
    {
      "cell_type": "code",
      "metadata": {
        "colab": {
          "base_uri": "https://localhost:8080/"
        },
        "id": "BWkVqjoZy8f8",
        "outputId": "18160c73-5f21-4996-85d4-0d2a505f1e4c"
      },
      "source": [
        "import numpy as np\n",
        "\n",
        "print(np.__version__)"
      ],
      "execution_count": 3,
      "outputs": [
        {
          "output_type": "stream",
          "name": "stdout",
          "text": [
            "1.19.5\n"
          ]
        }
      ]
    },
    {
      "cell_type": "markdown",
      "metadata": {
        "id": "99Bb0B0qz6BM"
      },
      "source": [
        "## **2. How to create a 1D array?**\n",
        "Difficulty Level: L1<br>\n",
        "\n",
        "Q. Create a 1D array of numbers from 0 to 9 <br><br>\n",
        "Desired output:\n",
        "\n",
        "\n",
        "array([0, 1, 2, 3, 4, 5, 6, 7, 8, 9])"
      ]
    },
    {
      "cell_type": "code",
      "metadata": {
        "colab": {
          "base_uri": "https://localhost:8080/"
        },
        "id": "FWROsKIsz-jc",
        "outputId": "22543ab2-a42e-4fb0-d7f3-9ec475a32cb7"
      },
      "source": [
        "a=np.arange(10)\n",
        "print(a)"
      ],
      "execution_count": null,
      "outputs": [
        {
          "output_type": "stream",
          "name": "stdout",
          "text": [
            "[0 1 2 3 4 5 6 7 8 9]\n"
          ]
        }
      ]
    },
    {
      "cell_type": "markdown",
      "metadata": {
        "id": "ta9FVcuP0VDD"
      },
      "source": [
        "## **3. How to create a boolean array?**\n",
        "Difficulty Level: L1\n",
        "\n",
        "Q. Create a 3×3 numpy array of all True’s"
      ]
    },
    {
      "cell_type": "code",
      "metadata": {
        "colab": {
          "base_uri": "https://localhost:8080/"
        },
        "id": "2jhDIuTo0Ztb",
        "outputId": "9f353ae9-cc5c-4c2a-a377-70417351dd54"
      },
      "source": [
        "a=np.ones((3,3),dtype=bool)\n",
        "print(\"method1:\",a)\n",
        "print(\"\\n\")\n",
        "b=np.full((3,3),True,dtype=bool)\n",
        "print(\"method2:\",b)"
      ],
      "execution_count": null,
      "outputs": [
        {
          "output_type": "stream",
          "name": "stdout",
          "text": [
            "method1: [[ True  True  True]\n",
            " [ True  True  True]\n",
            " [ True  True  True]] \n",
            "\n",
            "method2: [[ True  True  True]\n",
            " [ True  True  True]\n",
            " [ True  True  True]]\n"
          ]
        }
      ]
    },
    {
      "cell_type": "markdown",
      "metadata": {
        "id": "OrUS_K0U01jj"
      },
      "source": [
        "# **4. How to extract items that satisfy a given condition from 1D array?**\n",
        "Difficulty Level: L1\n",
        "\n",
        "Q. Extract all odd numbers from arr<br><br>\n",
        "\n",
        "\n",
        "Input:\n",
        "\n",
        "arr = np.array([0, 1, 2, 3, 4, 5, 6, 7, 8, 9])<br><br>\n",
        "Desired output:<br>\n",
        "array([1, 3, 5, 7, 9])"
      ]
    },
    {
      "cell_type": "code",
      "metadata": {
        "colab": {
          "base_uri": "https://localhost:8080/"
        },
        "id": "Q2rLrUC61FdI",
        "outputId": "c235a91d-5810-48d3-92a4-457f0f1db528"
      },
      "source": [
        "a=np.arange(10)\n",
        "print(a)\n",
        "print(\"\\n\")\n",
        "a=a[a%2==1]\n",
        "print(a)"
      ],
      "execution_count": null,
      "outputs": [
        {
          "output_type": "stream",
          "name": "stdout",
          "text": [
            "[0 1 2 3 4 5 6 7 8 9] \n",
            "\n",
            "[1 3 5 7 9]\n"
          ]
        }
      ]
    },
    {
      "cell_type": "markdown",
      "metadata": {
        "id": "Cfr4tCPr1zib"
      },
      "source": [
        "# **5. How to replace items that satisfy a condition with another value in numpy array?**\n",
        "Difficulty Level: L1<br>\n",
        "\n",
        "Q. Replace all odd numbers in arr with -1 <br><br>\n",
        "Input:\n",
        "\n",
        "\n",
        "arr = np.array([0, 1, 2, 3, 4, 5, 6, 7, 8, 9])<br><br>\n",
        "Desired Output:<br>\n",
        "array([ 0, -1,  2, -1,  4, -1,  6, -1,  8, -1])"
      ]
    },
    {
      "cell_type": "code",
      "metadata": {
        "colab": {
          "base_uri": "https://localhost:8080/"
        },
        "id": "0_OisXmg15Mx",
        "outputId": "1ffc137e-842e-44aa-e97d-7e5b67346507"
      },
      "source": [
        "a=np.arange(10)\n",
        "print(a)\n",
        "print(\"\\n\")\n",
        "a[a[a%2==1]]=-1\n",
        "print(a)"
      ],
      "execution_count": null,
      "outputs": [
        {
          "output_type": "stream",
          "name": "stdout",
          "text": [
            "[0 1 2 3 4 5 6 7 8 9] \n",
            "\n",
            "[ 0 -1  2 -1  4 -1  6 -1  8 -1]\n"
          ]
        }
      ]
    },
    {
      "cell_type": "markdown",
      "metadata": {
        "id": "--jfZsz02V_6"
      },
      "source": [
        "# **6. How to replace items that satisfy a condition without affecting the original array?**\n",
        "Difficulty Level: L2\n",
        "\n",
        "Q. Replace all odd numbers in arr with -1 without changing arr\n",
        "<br><br>Input:\n",
        "\n",
        "arr = np.array([0, 1, 2, 3, 4, 5, 6, 7, 8, 9])<br><br>\n",
        "Desired Output:\n",
        "\n",
        "out\n",
        "array([ 0, -1,  2, -1,  4, -1,  6, -1,  8, -1])<br>\n",
        "arr\n",
        "array([0, 1, 2, 3, 4, 5, 6, 7, 8, 9])"
      ]
    },
    {
      "cell_type": "code",
      "metadata": {
        "colab": {
          "base_uri": "https://localhost:8080/"
        },
        "id": "Lxmc6rhf2YQa",
        "outputId": "a080d3a1-bde1-45f7-a1b3-4fcc83715d91"
      },
      "source": [
        "print(\"錯誤:\")\n",
        "a=np.arange(10)\n",
        "out=a\n",
        "out[out[out%2==1]]=-1\n",
        "print(\"a=\",a)\n",
        "print(\"out=\",out)\n",
        "print(\"\\n\")\n",
        "print(\"正確:\")\n",
        "b=np.arange(10)\n",
        "out=np.where(b%2==1,-1,b)\n",
        "print(\"b=\",b)\n",
        "print(\"out=\",out)\n",
        "print(\"\\n\")"
      ],
      "execution_count": null,
      "outputs": [
        {
          "output_type": "stream",
          "name": "stdout",
          "text": [
            "錯誤:\n",
            "a= [ 0 -1  2 -1  4 -1  6 -1  8 -1]\n",
            "out= [ 0 -1  2 -1  4 -1  6 -1  8 -1]\n",
            "\n",
            "\n",
            "正確:\n",
            "b= [0 1 2 3 4 5 6 7 8 9]\n",
            "out= [ 0 -1  2 -1  4 -1  6 -1  8 -1]\n",
            "\n",
            "\n"
          ]
        }
      ]
    },
    {
      "cell_type": "markdown",
      "metadata": {
        "id": "WQ4kPA5T552W"
      },
      "source": [
        "# **7. How to reshape an array?**\n",
        "Difficulty Level: L1\n",
        "\n",
        "Q. Convert a 1D array to a 2D array with 2 rows<br><br>\n",
        "Input:\n",
        "\n",
        "np.arange(10)\n",
        "\n",
        "array([ 0, 1, 2, 3, 4, 5, 6, 7, 8, 9])<br><br>\n",
        "Desired Output:<br>\n",
        "\n",
        "array([[0, 1, 2, 3, 4],<br>\n",
        "[5, 6, 7, 8, 9]])"
      ]
    },
    {
      "cell_type": "code",
      "metadata": {
        "colab": {
          "base_uri": "https://localhost:8080/"
        },
        "id": "N1K0FPe259p1",
        "outputId": "65c4c923-62b7-492e-99e3-33db51a2a0f4"
      },
      "source": [
        "a=np.arange(10)\n",
        "print(a)\n",
        "print(\"\\n\")\n",
        "a=a.reshape(2,5)\n",
        "print(a)"
      ],
      "execution_count": null,
      "outputs": [
        {
          "output_type": "stream",
          "name": "stdout",
          "text": [
            "[0 1 2 3 4 5 6 7 8 9] \n",
            "\n",
            "[[0 1 2 3 4]\n",
            " [5 6 7 8 9]]\n"
          ]
        }
      ]
    },
    {
      "cell_type": "markdown",
      "metadata": {
        "id": "8RjAMJeT7PBc"
      },
      "source": [
        "# **8. How to stack two arrays vertically?**\n",
        "Difficulty Level: L2<br>\n",
        "Q. Stack arrays a and b vertically<br><br>\n",
        "Input\n",
        "\n",
        "a = np.arange(10).reshape(2,-1)<br>\n",
        "b = np.repeat(1, 10).reshape(2,-1)<br><br>\n",
        "Desired Output:<br>\n",
        "\n",
        "\n",
        "array([[0, 1, 2, 3, 4],<br>\n",
        "  [5, 6, 7, 8, 9],<br>\n",
        "  [1, 1, 1, 1, 1],<br>\n",
        "  [1, 1, 1, 1, 1]])"
      ]
    },
    {
      "cell_type": "code",
      "metadata": {
        "colab": {
          "base_uri": "https://localhost:8080/"
        },
        "id": "wLtDUOHA7Hoj",
        "outputId": "e6362c72-61db-4595-fbba-1b67107aa849"
      },
      "source": [
        "a=np.arange(10).reshape(2,5)\n",
        "b=np.full((2,5),1)\n",
        "print(a,\"\\n\")\n",
        "print(b,\"\\n\")\n",
        "print(np.vstack([a,b]))"
      ],
      "execution_count": null,
      "outputs": [
        {
          "output_type": "stream",
          "name": "stdout",
          "text": [
            "[[0 1 2 3 4]\n",
            " [5 6 7 8 9]] \n",
            "\n",
            "[[1 1 1 1 1]\n",
            " [1 1 1 1 1]] \n",
            "\n",
            "[[0 1 2 3 4]\n",
            " [5 6 7 8 9]\n",
            " [1 1 1 1 1]\n",
            " [1 1 1 1 1]]\n"
          ]
        }
      ]
    },
    {
      "cell_type": "markdown",
      "metadata": {
        "id": "cZ7rITlB7HcU"
      },
      "source": [
        "# **9. How to stack two arrays horizontally?**\n",
        "Difficulty Level: L2\n",
        "\n",
        "Q. Stack the arrays a and b horizontally.<br><br>\n",
        "Input<br>\n",
        "\n",
        "a = np.arange(10).reshape(2,-1)\n",
        "\n",
        "b = np.repeat(1, 10).reshape(2,-1)<br><br>\n",
        "Desired Output:<br>\n",
        "\n",
        "array([[0, 1, 2, 3, 4, 1, 1, 1, 1, 1],<br>\n",
        "[5, 6, 7, 8, 9, 1, 1, 1, 1, 1]])"
      ]
    },
    {
      "cell_type": "code",
      "metadata": {
        "colab": {
          "base_uri": "https://localhost:8080/"
        },
        "id": "uevqZefm7Ryc",
        "outputId": "1d3df851-f2be-4bbe-d5ac-7170d69d54e7"
      },
      "source": [
        "a=np.arange(10).reshape(2,5)\n",
        "b=np.full((2,5),1)\n",
        "print(a,\"\\n\")\n",
        "print(b,\"\\n\")\n",
        "print(np.hstack([a,b]))"
      ],
      "execution_count": null,
      "outputs": [
        {
          "output_type": "stream",
          "name": "stdout",
          "text": [
            "[[0 1 2 3 4]\n",
            " [5 6 7 8 9]] \n",
            "\n",
            "[[1 1 1 1 1]\n",
            " [1 1 1 1 1]] \n",
            "\n",
            "[[0 1 2 3 4 1 1 1 1 1]\n",
            " [5 6 7 8 9 1 1 1 1 1]]\n"
          ]
        }
      ]
    },
    {
      "cell_type": "markdown",
      "metadata": {
        "id": "CqsJpNxd_xco"
      },
      "source": [
        "# **10. How to generate custom sequences in numpy without hardcoding?**\n",
        "Difficulty Level: L2\n",
        "\n",
        "Q. Create the following pattern without hardcoding. Use only numpy functions and the below input array a.<br><br>\n",
        "\n",
        "Input:\n",
        "\n",
        "\n",
        "a = np.array([1,2,3])<br><br>\n",
        "Desired Output:<br>\n",
        "\n",
        "array([1, 1, 1, 2, 2, 2, 3, 3, 3, 1, 2, 3, 1, 2, 3, 1, 2, 3])"
      ]
    },
    {
      "cell_type": "code",
      "metadata": {
        "colab": {
          "base_uri": "https://localhost:8080/"
        },
        "id": "ra9SHRm6_1GY",
        "outputId": "1d502a34-cda9-416f-f9e6-423181638659"
      },
      "source": [
        "#np.repeat：复制的是多维数组的每一个元素\n",
        "#np.tile：复制的是多维数组本身\n",
        "a=np.arange(3)\n",
        "print(a)\n",
        "b=np.r_[np.repeat(a,3),np.tile(a,3)] #复制3次\n",
        "#np.r_是按列连接两个矩阵，就是把两矩阵上下相加，要求列数相等，类似于pandas中的concat()。\n",
        "#np.c_是按行连接两个矩阵，就是把两矩阵左右相加，要求行数相等，类似于pandas中的merge()。\n",
        "print(b)"
      ],
      "execution_count": null,
      "outputs": [
        {
          "output_type": "stream",
          "name": "stdout",
          "text": [
            "[1 2 3]\n",
            "[1 1 1 2 2 2 3 3 3 1 2 3 1 2 3 1 2 3]\n"
          ]
        }
      ]
    },
    {
      "cell_type": "markdown",
      "metadata": {
        "id": "YqZsu73pEqXm"
      },
      "source": [
        "# **11. How to get the common items between two python numpy arrays?**\n",
        "Difficulty Level: L2\n",
        "\n",
        "Q. Get the common items between a and b\n",
        " <br>  <br> \n",
        "Input:\n",
        "\n",
        "a = np.array([1,2,3,2,3,4,3,4,5,6]) <br> \n",
        "b = np.array([7,2,10,2,7,4,9,4,9,8]) <br><br>\n",
        "\n",
        "Desired Output:\n",
        "\n",
        "array([2, 4])"
      ]
    },
    {
      "cell_type": "code",
      "metadata": {
        "colab": {
          "base_uri": "https://localhost:8080/"
        },
        "id": "PIjIDjv5FdNF",
        "outputId": "e5661776-4e10-4753-9b9c-673f7c527d85"
      },
      "source": [
        "a=np.array([1,2,3,2,3,4,3,4,5,6]) #直接創list\n",
        "b=np.array([7,2,10,2,7,4,9,4,9,8]) #直接創list\n",
        "c=np.intersect1d(a,b) #交集\n",
        "print(c)"
      ],
      "execution_count": null,
      "outputs": [
        {
          "output_type": "stream",
          "name": "stdout",
          "text": [
            "[2 4]\n"
          ]
        }
      ]
    },
    {
      "cell_type": "markdown",
      "metadata": {
        "id": "LhVnWlNAJj1x"
      },
      "source": [
        "# **12. How to remove from one array those items that exist in another?**\n",
        "Difficulty Level: L2\n",
        "\n",
        "Q. From array a remove all items present in array b<br><br>\n",
        "\n",
        "Input:\n",
        "\n",
        "a = np.array([1,2,3,4,5])<br>\n",
        "b = np.array([5,6,7,8,9])<br><br>\n",
        "Desired Output:\n",
        "\n",
        "array([1,2,3,4])"
      ]
    },
    {
      "cell_type": "code",
      "metadata": {
        "colab": {
          "base_uri": "https://localhost:8080/"
        },
        "id": "VnFTK3O8L48v",
        "outputId": "15897628-6af2-49b3-e771-a1d01afbb627"
      },
      "source": [
        "a=np.array([1,2,3,4,5]) #直接創list\n",
        "b=np.array([5,6,7,8,9]) #直接創list\n",
        "c=np.setdiff1d(a,b) #差集\n",
        "print(c)"
      ],
      "execution_count": null,
      "outputs": [
        {
          "output_type": "stream",
          "name": "stdout",
          "text": [
            "[1 2 3 4]\n"
          ]
        }
      ]
    },
    {
      "cell_type": "markdown",
      "metadata": {
        "id": "cpbz3QWhMriN"
      },
      "source": [
        "# **13. How to get the positions where elements of two arrays match?**\n",
        "Difficulty Level: L2\n",
        "\n",
        "\n",
        "Q. Get the positions where elements of a and b match<br><br>\n",
        "\n",
        "Input:\n",
        "\n",
        "a = np.array([1,2,3,2,3,4,3,4,5,6])<br>\n",
        "b = np.array([7,2,10,2,7,4,9,4,9,8])<br><br>\n",
        "Desired Output:\n",
        "\n",
        "(array([1, 3, 5, 7]),)"
      ]
    },
    {
      "cell_type": "code",
      "metadata": {
        "colab": {
          "base_uri": "https://localhost:8080/"
        },
        "id": "5v9ZBKNhMsD9",
        "outputId": "fc1f20c7-bd14-4f21-b21b-5fc6642106a2"
      },
      "source": [
        "a=np.array([1,2,3,2,3,4,3,4,5,6])\n",
        "b=np.array([7,2,10,2,7,4,9,4,9,8])\n",
        "index=np.where(a==b) #回傳index\n",
        "print(index)"
      ],
      "execution_count": 7,
      "outputs": [
        {
          "output_type": "stream",
          "name": "stdout",
          "text": [
            "(array([1, 3, 5, 7]),)\n"
          ]
        }
      ]
    },
    {
      "cell_type": "markdown",
      "metadata": {
        "id": "SRFA2U3o7C32"
      },
      "source": [
        "# **14. How to extract all numbers between a given range from a numpy array?**\n",
        "Difficulty Level: L2\n",
        "\n",
        "Q. Get all items between 5 and 10 from a.<br><br>\n",
        "\n",
        "Input:\n",
        "\n",
        "a = np.array([2, 6, 1, 9, 10, 3, 27])<br><br>\n",
        "Desired Output:\n",
        "\n",
        "(array([6, 9, 10]),)"
      ]
    },
    {
      "cell_type": "code",
      "metadata": {
        "colab": {
          "base_uri": "https://localhost:8080/"
        },
        "id": "7uQboJXl7UE1",
        "outputId": "ed1c3546-b6f6-47ed-d9eb-edc788e6d5cd"
      },
      "source": [
        "a=np.array([2,6,1,9,10,3,27])\n",
        "index=np.where((a>=5)&(a<=10))\n",
        "print(a[index])"
      ],
      "execution_count": 8,
      "outputs": [
        {
          "output_type": "stream",
          "name": "stdout",
          "text": [
            "[ 6  9 10]\n"
          ]
        }
      ]
    },
    {
      "cell_type": "markdown",
      "metadata": {
        "id": "ml3yHD_PJTwr"
      },
      "source": [
        "# **15. How to make a python function that handles scalars to work on numpy arrays?**\n",
        "Difficulty Level: L2\n",
        "\n",
        "Q. Convert the function maxx that works on two scalars, to work on two arrays.<br><br>\n",
        "\n",
        "Input:\n",
        "\n",
        "\n",
        "def maxx(x, y):<br>\n",
        "    \"\"\"Get the maximum of two items\"\"\"<br>\n",
        "     &emsp;&emsp;&emsp;if x >= y:<br>\n",
        "        &emsp;&emsp;&emsp;&emsp;&emsp;return <br>\n",
        "    &emsp;&emsp;&emsp;else:<br>\n",
        "        &emsp;&emsp;&emsp;&emsp;&emsp;return y<br>\n",
        "\n",
        "maxx(1, 5)<br>\n",
        " 5<br><br>\n",
        "Desired Output:\n",
        "\n",
        "a = np.array([5, 7, 9, 8, 6, 4, 5])<br>\n",
        "b = np.array([6, 3, 4, 8, 9, 7, 1])<br>\n",
        "pair_max(a, b)<br>\n",
        "array([ 6.,  7.,  9.,  8.,  9.,  7.,  5.])"
      ]
    },
    {
      "cell_type": "code",
      "metadata": {
        "id": "s-h2780TJUXi"
      },
      "source": [
        ""
      ],
      "execution_count": null,
      "outputs": []
    },
    {
      "cell_type": "markdown",
      "metadata": {
        "id": "bAEzmmIkF371"
      },
      "source": [
        "# **16. How to swap two columns in a 2d numpy array?**\n",
        "Difficulty Level: L2\n",
        "\n",
        "Q. Swap columns 1 and 2 in the array arr.<br><br>\n",
        "\n",
        "arr = np.arange(9).reshape(3,3)<br>\n",
        "arr"
      ]
    },
    {
      "cell_type": "code",
      "metadata": {
        "colab": {
          "base_uri": "https://localhost:8080/"
        },
        "id": "KntYLzhkF4fl",
        "outputId": "d57983a0-f15c-4bee-fece-1c7edeca17ce"
      },
      "source": [
        "a=np.arange(9).reshape(3,3)\n",
        "print(a)\n",
        "a[:,[2,1,0]]=a[:,[0,1,2]]  # 0,1,2 col 轉成 2,1,0 col\n",
        "print(\"\\n\")\n",
        "print(a)"
      ],
      "execution_count": 21,
      "outputs": [
        {
          "output_type": "stream",
          "name": "stdout",
          "text": [
            "[[0 1 2]\n",
            " [3 4 5]\n",
            " [6 7 8]]\n",
            "\n",
            "\n",
            "[[2 1 0]\n",
            " [5 4 3]\n",
            " [8 7 6]]\n"
          ]
        }
      ]
    },
    {
      "cell_type": "markdown",
      "metadata": {
        "id": "APSMzDCwHjiD"
      },
      "source": [
        "# 17. How to swap two rows in a 2d numpy array?\n",
        "Difficulty Level: L2\n",
        "\n",
        "Q. Swap rows 1 and 2 in the array arr:<br><br>\n",
        "\n",
        "arr = np.arange(9).reshape(3,3)<br>\n",
        "arr"
      ]
    },
    {
      "cell_type": "code",
      "metadata": {
        "colab": {
          "base_uri": "https://localhost:8080/"
        },
        "id": "JGV2nRU9Hj3z",
        "outputId": "c53aab9d-1f4a-4b48-c762-e968947c17ab"
      },
      "source": [
        "a=np.arange(9).reshape(3,3)\n",
        "print(a)\n",
        "a[[2,1,0],:]=a[[0,1,2],:]  # 0,1,2 row 轉成 2,1,0 row\n",
        "print(\"\\n\")\n",
        "print(a)"
      ],
      "execution_count": 22,
      "outputs": [
        {
          "output_type": "stream",
          "name": "stdout",
          "text": [
            "[[0 1 2]\n",
            " [3 4 5]\n",
            " [6 7 8]]\n",
            "\n",
            "\n",
            "[[6 7 8]\n",
            " [3 4 5]\n",
            " [0 1 2]]\n"
          ]
        }
      ]
    },
    {
      "cell_type": "markdown",
      "metadata": {
        "id": "a5DzIF3bIJcj"
      },
      "source": [
        "# **18. How to reverse the rows of a 2D array?**\n",
        "Difficulty Level: L2\n",
        "\n",
        "Q. Reverse the rows of a 2D array arr."
      ]
    },
    {
      "cell_type": "code",
      "metadata": {
        "colab": {
          "base_uri": "https://localhost:8080/"
        },
        "id": "bxkOFTEVIJxK",
        "outputId": "c21a01dc-f698-41ad-a821-61149d1620b1"
      },
      "source": [
        "a=np.arange(9).reshape(3,3)\n",
        "print(a)\n",
        "\n",
        "print(\"\\n\")\n",
        "b=np.flip(a,axis=0) # arr[start:end:stepsize] or np.flip(arr,axis=None)\n",
        "print(b)"
      ],
      "execution_count": 29,
      "outputs": [
        {
          "output_type": "stream",
          "name": "stdout",
          "text": [
            "[[0 1 2]\n",
            " [3 4 5]\n",
            " [6 7 8]]\n",
            "\n",
            "\n",
            "[[6 7 8]\n",
            " [3 4 5]\n",
            " [0 1 2]]\n"
          ]
        }
      ]
    },
    {
      "cell_type": "markdown",
      "metadata": {
        "id": "duaIRyyeJD8D"
      },
      "source": [
        "# **19. How to reverse the columns of a 2D array?**\n",
        "Difficulty Level: L2\n",
        "\n",
        "Q. Reverse the columns of a 2D array arr."
      ]
    },
    {
      "cell_type": "code",
      "metadata": {
        "colab": {
          "base_uri": "https://localhost:8080/"
        },
        "id": "jPx3bKCpJFbK",
        "outputId": "dbe70c69-84b3-4657-af14-5d9f33dc5b06"
      },
      "source": [
        "a=np.arange(9).reshape(3,3)\n",
        "print(a)\n",
        "\n",
        "print(\"\\n\")\n",
        "b=np.flip(a,axis=1) # arr[start:end:stepsize] or np.flip(arr,axis=None)\n",
        "print(b)"
      ],
      "execution_count": 30,
      "outputs": [
        {
          "output_type": "stream",
          "name": "stdout",
          "text": [
            "[[0 1 2]\n",
            " [3 4 5]\n",
            " [6 7 8]]\n",
            "\n",
            "\n",
            "[[2 1 0]\n",
            " [5 4 3]\n",
            " [8 7 6]]\n"
          ]
        }
      ]
    },
    {
      "cell_type": "markdown",
      "metadata": {
        "id": "zyF_t9FQAFNT"
      },
      "source": [
        "# **20. How to create a 2D array containing random floats between 5 and 10?**\n",
        "Difficulty Level: L2\n",
        "\n",
        "\n",
        "Q. Create a 2D array of shape 5x3 to contain random decimal numbers between 5 and 10."
      ]
    },
    {
      "cell_type": "code",
      "metadata": {
        "colab": {
          "base_uri": "https://localhost:8080/"
        },
        "id": "kIRcq1uBAOVT",
        "outputId": "d07ffd94-e3ab-4bb5-cd25-2b828b09ecca"
      },
      "source": [
        "a=np.random.rand(15).reshape(5,3)\n",
        "a=5+(a*(10-5)) #線性內插法\n",
        "print(a)\n",
        "\n",
        "print(\"\\n\")\n",
        "b=np.random.randint(low=5,high=10,size=(5,3))+np.random.random((5,3))\n",
        "print(b)"
      ],
      "execution_count": 28,
      "outputs": [
        {
          "output_type": "stream",
          "name": "stdout",
          "text": [
            "[[7.86788142 9.6717887  8.18324668]\n",
            " [7.50665503 6.78794406 8.09402581]\n",
            " [8.32531744 5.91626399 9.68712925]\n",
            " [6.35921462 7.13671232 9.81452011]\n",
            " [6.13312408 7.88638474 5.37236507]]\n",
            "\n",
            "\n",
            "[[7.21091675 8.09883054 8.85832404]\n",
            " [6.72708105 8.17652195 6.04041001]\n",
            " [7.23676067 9.20989881 8.66176394]\n",
            " [5.37331636 8.2220575  8.79551312]\n",
            " [7.94310443 5.86218297 7.9272815 ]]\n"
          ]
        }
      ]
    },
    {
      "cell_type": "markdown",
      "metadata": {
        "id": "JpLqQ8EJLpmR"
      },
      "source": [
        "# **21. How to print only 3 decimal places in python numpy array?**\n",
        "Difficulty Level: L1\n",
        "\n",
        "Q. Print or show only 3 decimal places of the numpy array rand_arr.<br><br>\n",
        "\n",
        "Input:\n",
        "\n",
        "rand_arr = np.random.random((5,3))"
      ]
    },
    {
      "cell_type": "code",
      "metadata": {
        "colab": {
          "base_uri": "https://localhost:8080/"
        },
        "id": "HkF5bp7kLqDJ",
        "outputId": "0fd0d9b7-0792-49da-a215-5b0e637b2cd5"
      },
      "source": [
        "a=np.random.rand(15).reshape(5,3)\n",
        "np.set_printoptions(suppress=False) \n",
        "print(a)\n",
        "print(\"\\n\")\n",
        "np.set_printoptions(precision=3,suppress=True) #太小的supress掉,有.00或科學記號就忽略不計\n",
        "print(a)\n",
        "print(\"\\n\")\n",
        "np.set_printoptions(formatter={'float': lambda x: \"{0:0.3f}\".format(x)}) #強制補到3位\n",
        "print(a)"
      ],
      "execution_count": 65,
      "outputs": [
        {
          "output_type": "stream",
          "name": "stdout",
          "text": [
            "[[0.262 0.456 0.683]\n",
            " [0.696 0.284 0.38 ]\n",
            " [0.181 0.789 0.057]\n",
            " [0.697 0.779 0.777]\n",
            " [0.259 0.374 0.588]]\n",
            "\n",
            "\n",
            "[[0.262 0.456 0.683]\n",
            " [0.696 0.284 0.38 ]\n",
            " [0.181 0.789 0.057]\n",
            " [0.697 0.779 0.777]\n",
            " [0.259 0.374 0.588]]\n",
            "\n",
            "\n",
            "[[0.262 0.456 0.683]\n",
            " [0.696 0.284 0.380]\n",
            " [0.181 0.789 0.057]\n",
            " [0.697 0.779 0.777]\n",
            " [0.259 0.374 0.588]]\n"
          ]
        }
      ]
    },
    {
      "cell_type": "markdown",
      "metadata": {
        "id": "qn3CsoZyQMl-"
      },
      "source": [
        "# **22. How to pretty print a numpy array by suppressing the scientific notation (like 1e10)?**\n",
        "Difficulty Level: L1\n",
        "\n",
        "Q. Pretty print rand_arr by suppressing the scientific notation (like 1e10)<br><br>\n",
        "\n",
        "Input:\n",
        "\n",
        "Create the random array<br>\n",
        "np.random.seed(100)<br>\n",
        "rand_arr = np.random.random([3,3])/1e3<br>\n",
        "rand_arr\n",
        "\n",
        "array([[  5.434049e-04,   2.783694e-04,   4.245176e-04],<br>\n",
        "        [  8.447761e-04,   4.718856e-06,   1.215691e-04],<br>\n",
        "        [  6.707491e-04,   8.258528e-04,   1.367066e-04]])<br><br>\n",
        "Desired Output:\n",
        "\n",
        "array([[ 0.000543,  0.000278,  0.000425],<br>\n",
        "        [ 0.000845,  0.000005,  0.000122],<br>\n",
        "        [ 0.000671,  0.000826,  0.000137]])<br>"
      ]
    },
    {
      "cell_type": "code",
      "metadata": {
        "colab": {
          "base_uri": "https://localhost:8080/"
        },
        "id": "-kGgMtNAQ3eG",
        "outputId": "f809011d-ed45-489a-d5cc-89344a1e16bf"
      },
      "source": [
        "a=np.random.rand(9).reshape(3,3)/1e3\n",
        "np.set_printoptions(suppress=False) \n",
        "print(a)\n",
        "print(\"\\n\")\n",
        "np.set_printoptions(precision=6,suppress=True) #太小的supress掉,有.00或科學記號就忽略不計\n",
        "print(a)\n",
        "print(\"\\n\")\n",
        "np.set_printoptions(formatter={'float': lambda x: \"{0:0.6f}\".format(x)}) #強制補到6位\n",
        "print(a)"
      ],
      "execution_count": 56,
      "outputs": [
        {
          "output_type": "stream",
          "name": "stdout",
          "text": [
            "[[4.905e-04 2.274e-04 2.544e-04]\n",
            " [5.803e-05 4.344e-04 3.118e-04]\n",
            " [6.963e-04 3.778e-04 1.796e-04]]\n",
            "\n",
            "\n",
            "[[0.00049  0.000227 0.000254]\n",
            " [0.000058 0.000434 0.000312]\n",
            " [0.000696 0.000378 0.00018 ]]\n",
            "\n",
            "\n",
            "[[0.000490 0.000227 0.000254]\n",
            " [0.000058 0.000434 0.000312]\n",
            " [0.000696 0.000378 0.000180]]\n"
          ]
        }
      ]
    },
    {
      "cell_type": "markdown",
      "metadata": {
        "id": "Vp8UMwbsUKcl"
      },
      "source": [
        "# **23. How to limit the number of items printed in output of numpy array?**\n",
        "Difficulty Level: L1\n",
        "\n",
        "Q. Limit the number of items printed in python numpy array a to a maximum of 6 elements.<br><br>\n",
        "\n",
        "\n",
        "Input:\n",
        "\n",
        "a = np.arange(15)<br>\n",
        "array([ 0,  1,  2,  3,  4,  5,  6,  7,  8,  9, 10, 11, 12, 13, 14])<br><br>\n",
        "Desired Output:\n",
        "\n",
        "array([ 0,  1,  2, ..., 12, 13, 14])"
      ]
    },
    {
      "cell_type": "code",
      "metadata": {
        "colab": {
          "base_uri": "https://localhost:8080/"
        },
        "id": "MoFnNEdpULme",
        "outputId": "0580260b-4866-4ae3-986c-e9830adfcbbc"
      },
      "source": [
        "a=np.arange(15)\n",
        "print(a)\n",
        "print(\"\\n\")\n",
        "np.set_printoptions(threshold=5) #會用...代替\n",
        "print(a)"
      ],
      "execution_count": 68,
      "outputs": [
        {
          "output_type": "stream",
          "name": "stdout",
          "text": [
            "[ 0  1  2  3  4  5  6  7  8  9 10 11 12 13 14]\n",
            "\n",
            "\n",
            "[ 0  1  2 ... 12 13 14]\n"
          ]
        }
      ]
    }
  ]
}