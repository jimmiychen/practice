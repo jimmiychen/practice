{
  "nbformat": 4,
  "nbformat_minor": 0,
  "metadata": {
    "colab": {
      "name": "101 NumPy Exercises for Data Analysis (Python).ipynb",
      "provenance": [],
      "collapsed_sections": [],
      "authorship_tag": "ABX9TyMy9QVI9i7hdUk2vHe+QEyF",
      "include_colab_link": true
    },
    "kernelspec": {
      "name": "python3",
      "display_name": "Python 3"
    },
    "language_info": {
      "name": "python"
    }
  },
  "cells": [
    {
      "cell_type": "markdown",
      "metadata": {
        "id": "view-in-github",
        "colab_type": "text"
      },
      "source": [
        "<a href=\"https://colab.research.google.com/github/jimmiychen/practice/blob/main/101_NumPy_Exercises_for_Data_Analysis_(Python).ipynb\" target=\"_parent\"><img src=\"https://colab.research.google.com/assets/colab-badge.svg\" alt=\"Open In Colab\"/></a>"
      ]
    },
    {
      "cell_type": "markdown",
      "metadata": {
        "id": "EhQCajtPyrte"
      },
      "source": [
        "# **101 NumPy Exercises for Data Analysis (Python)**"
      ]
    },
    {
      "cell_type": "markdown",
      "metadata": {
        "id": "5DJNe24Xy1f6"
      },
      "source": [
        "## **1. Import numpy as np and see the version**\n",
        "Difficulty Level: L1\n",
        "\n",
        "Q. Import numpy as np and print the version number."
      ]
    },
    {
      "cell_type": "code",
      "metadata": {
        "colab": {
          "base_uri": "https://localhost:8080/"
        },
        "id": "BWkVqjoZy8f8",
        "outputId": "66c349e0-ea4a-41ed-c221-415bbbcbf3ab"
      },
      "source": [
        "import numpy as np\n",
        "\n",
        "print(np.__version__)"
      ],
      "execution_count": 1,
      "outputs": [
        {
          "output_type": "stream",
          "name": "stdout",
          "text": [
            "1.19.5\n"
          ]
        }
      ]
    },
    {
      "cell_type": "markdown",
      "metadata": {
        "id": "99Bb0B0qz6BM"
      },
      "source": [
        "## **2. How to create a 1D array?**\n",
        "Difficulty Level: L1\n",
        "\n",
        "Q. Create a 1D array of numbers from 0 to 9"
      ]
    },
    {
      "cell_type": "code",
      "metadata": {
        "colab": {
          "base_uri": "https://localhost:8080/"
        },
        "id": "FWROsKIsz-jc",
        "outputId": "22543ab2-a42e-4fb0-d7f3-9ec475a32cb7"
      },
      "source": [
        "a=np.arange(10)\n",
        "print(a)"
      ],
      "execution_count": 3,
      "outputs": [
        {
          "output_type": "stream",
          "name": "stdout",
          "text": [
            "[0 1 2 3 4 5 6 7 8 9]\n"
          ]
        }
      ]
    },
    {
      "cell_type": "markdown",
      "metadata": {
        "id": "ta9FVcuP0VDD"
      },
      "source": [
        "## **3. How to create a boolean array?**\n",
        "Difficulty Level: L1\n",
        "\n",
        "Q. Create a 3×3 numpy array of all True’s"
      ]
    },
    {
      "cell_type": "code",
      "metadata": {
        "colab": {
          "base_uri": "https://localhost:8080/"
        },
        "id": "2jhDIuTo0Ztb",
        "outputId": "43042c58-4820-43fa-a26f-04b50882645a"
      },
      "source": [
        "a=np.ones((3,3),dtype=bool)\n",
        "print(a,\"\\n\")\n",
        "b=np.full((3,3),True,dtype=bool)\n",
        "print(b)"
      ],
      "execution_count": 5,
      "outputs": [
        {
          "output_type": "stream",
          "name": "stdout",
          "text": [
            "[[ True  True  True]\n",
            " [ True  True  True]\n",
            " [ True  True  True]] \n",
            "\n",
            "[[ True  True  True]\n",
            " [ True  True  True]\n",
            " [ True  True  True]]\n"
          ]
        }
      ]
    },
    {
      "cell_type": "markdown",
      "metadata": {
        "id": "OrUS_K0U01jj"
      },
      "source": [
        "# **4. How to extract items that satisfy a given condition from 1D array?**\n",
        "Difficulty Level: L1\n",
        "\n",
        "Q. Extract all odd numbers from arr"
      ]
    },
    {
      "cell_type": "code",
      "metadata": {
        "colab": {
          "base_uri": "https://localhost:8080/"
        },
        "id": "Q2rLrUC61FdI",
        "outputId": "e35f2ac9-0cd9-47c6-da94-a251b44c7377"
      },
      "source": [
        "a=np.arange(10)\n",
        "print(a,\"\\n\")\n",
        "a=a[a%2==1]\n",
        "print(a)"
      ],
      "execution_count": 7,
      "outputs": [
        {
          "output_type": "stream",
          "name": "stdout",
          "text": [
            "[0 1 2 3 4 5 6 7 8 9] \n",
            "\n",
            "[1 3 5 7 9]\n"
          ]
        }
      ]
    },
    {
      "cell_type": "markdown",
      "metadata": {
        "id": "Cfr4tCPr1zib"
      },
      "source": [
        "# **5. How to replace items that satisfy a condition with another value in numpy array?**\n",
        "Difficulty Level: L1\n",
        "\n",
        "Q. Replace all odd numbers in arr with -1"
      ]
    },
    {
      "cell_type": "code",
      "metadata": {
        "colab": {
          "base_uri": "https://localhost:8080/"
        },
        "id": "0_OisXmg15Mx",
        "outputId": "1ffc137e-842e-44aa-e97d-7e5b67346507"
      },
      "source": [
        "a=np.arange(10)\n",
        "print(a,\"\\n\")\n",
        "a[a[a%2==1]]=-1\n",
        "print(a)"
      ],
      "execution_count": 8,
      "outputs": [
        {
          "output_type": "stream",
          "name": "stdout",
          "text": [
            "[0 1 2 3 4 5 6 7 8 9] \n",
            "\n",
            "[ 0 -1  2 -1  4 -1  6 -1  8 -1]\n"
          ]
        }
      ]
    },
    {
      "cell_type": "markdown",
      "metadata": {
        "id": "--jfZsz02V_6"
      },
      "source": [
        "# **6. How to replace items that satisfy a condition without affecting the original array?**\n",
        "Difficulty Level: L2\n",
        "\n",
        "Q. Replace all odd numbers in arr with -1 without changing arr"
      ]
    },
    {
      "cell_type": "code",
      "metadata": {
        "id": "Lxmc6rhf2YQa"
      },
      "source": [
        ""
      ],
      "execution_count": 12,
      "outputs": []
    },
    {
      "cell_type": "markdown",
      "metadata": {
        "id": "WQ4kPA5T552W"
      },
      "source": [
        "# **7. How to reshape an array?**\n",
        "Difficulty Level: L1\n",
        "\n",
        "Q. Convert a 1D array to a 2D array with 2 rows"
      ]
    },
    {
      "cell_type": "code",
      "metadata": {
        "colab": {
          "base_uri": "https://localhost:8080/"
        },
        "id": "N1K0FPe259p1",
        "outputId": "65c4c923-62b7-492e-99e3-33db51a2a0f4"
      },
      "source": [
        "a=np.arange(10)\n",
        "print(a,\"\\n\")\n",
        "a=a.reshape(2,5)\n",
        "print(a)"
      ],
      "execution_count": 11,
      "outputs": [
        {
          "output_type": "stream",
          "name": "stdout",
          "text": [
            "[0 1 2 3 4 5 6 7 8 9] \n",
            "\n",
            "[[0 1 2 3 4]\n",
            " [5 6 7 8 9]]\n"
          ]
        }
      ]
    },
    {
      "cell_type": "markdown",
      "metadata": {
        "id": "8RjAMJeT7PBc"
      },
      "source": [
        "# **8. How to stack two arrays vertically?**\n",
        "Difficulty Level: L2\n",
        "Q. Stack arrays a and b vertically"
      ]
    },
    {
      "cell_type": "code",
      "metadata": {
        "colab": {
          "base_uri": "https://localhost:8080/"
        },
        "id": "wLtDUOHA7Hoj",
        "outputId": "e6362c72-61db-4595-fbba-1b67107aa849"
      },
      "source": [
        "a=np.arange(10).reshape(2,5)\n",
        "b=np.full((2,5),1)\n",
        "print(a,\"\\n\")\n",
        "print(b,\"\\n\")\n",
        "print(np.vstack([a,b]))"
      ],
      "execution_count": 17,
      "outputs": [
        {
          "output_type": "stream",
          "name": "stdout",
          "text": [
            "[[0 1 2 3 4]\n",
            " [5 6 7 8 9]] \n",
            "\n",
            "[[1 1 1 1 1]\n",
            " [1 1 1 1 1]] \n",
            "\n",
            "[[0 1 2 3 4]\n",
            " [5 6 7 8 9]\n",
            " [1 1 1 1 1]\n",
            " [1 1 1 1 1]]\n"
          ]
        }
      ]
    },
    {
      "cell_type": "markdown",
      "metadata": {
        "id": "cZ7rITlB7HcU"
      },
      "source": [
        "# **9. How to stack two arrays horizontally?**\n",
        "Difficulty Level: L2\n",
        "\n",
        "Q. Stack the arrays a and b horizontally."
      ]
    },
    {
      "cell_type": "code",
      "metadata": {
        "colab": {
          "base_uri": "https://localhost:8080/"
        },
        "id": "uevqZefm7Ryc",
        "outputId": "1d3df851-f2be-4bbe-d5ac-7170d69d54e7"
      },
      "source": [
        "a=np.arange(10).reshape(2,5)\n",
        "b=np.full((2,5),1)\n",
        "print(a,\"\\n\")\n",
        "print(b,\"\\n\")\n",
        "print(np.hstack([a,b]))"
      ],
      "execution_count": 18,
      "outputs": [
        {
          "output_type": "stream",
          "name": "stdout",
          "text": [
            "[[0 1 2 3 4]\n",
            " [5 6 7 8 9]] \n",
            "\n",
            "[[1 1 1 1 1]\n",
            " [1 1 1 1 1]] \n",
            "\n",
            "[[0 1 2 3 4 1 1 1 1 1]\n",
            " [5 6 7 8 9 1 1 1 1 1]]\n"
          ]
        }
      ]
    },
    {
      "cell_type": "markdown",
      "metadata": {
        "id": "CqsJpNxd_xco"
      },
      "source": [
        "# **10. How to generate custom sequences in numpy without hardcoding?**\n",
        "Difficulty Level: L2\n",
        "\n",
        "Q. Create the following pattern without hardcoding. Use only numpy functions and the below input array a."
      ]
    },
    {
      "cell_type": "code",
      "metadata": {
        "colab": {
          "base_uri": "https://localhost:8080/"
        },
        "id": "ra9SHRm6_1GY",
        "outputId": "1d502a34-cda9-416f-f9e6-423181638659"
      },
      "source": [
        "#np.repeat：复制的是多维数组的每一个元素\n",
        "#np.tile：复制的是多维数组本身\n",
        "a=np.arange(3)+1\n",
        "print(a)\n",
        "b=np.r_[np.repeat(a,3),np.tile(a,3)] #复制3次\n",
        "#np.r_是按列连接两个矩阵，就是把两矩阵上下相加，要求列数相等，类似于pandas中的concat()。\n",
        "#np.c_是按行连接两个矩阵，就是把两矩阵左右相加，要求行数相等，类似于pandas中的merge()。\n",
        "print(b)"
      ],
      "execution_count": 21,
      "outputs": [
        {
          "output_type": "stream",
          "name": "stdout",
          "text": [
            "[1 2 3]\n",
            "[1 1 1 2 2 2 3 3 3 1 2 3 1 2 3 1 2 3]\n"
          ]
        }
      ]
    }
  ]
}