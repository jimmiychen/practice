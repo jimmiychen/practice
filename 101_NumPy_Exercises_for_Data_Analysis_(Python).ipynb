{
  "nbformat": 4,
  "nbformat_minor": 0,
  "metadata": {
    "colab": {
      "name": "101 NumPy Exercises for Data Analysis (Python).ipynb",
      "provenance": [],
      "collapsed_sections": [],
      "authorship_tag": "ABX9TyOmeXzbaoqlh6NKuk36wdhl",
      "include_colab_link": true
    },
    "kernelspec": {
      "name": "python3",
      "display_name": "Python 3"
    },
    "language_info": {
      "name": "python"
    }
  },
  "cells": [
    {
      "cell_type": "markdown",
      "metadata": {
        "id": "view-in-github",
        "colab_type": "text"
      },
      "source": [
        "<a href=\"https://colab.research.google.com/github/jimmiychen/practice/blob/main/101_NumPy_Exercises_for_Data_Analysis_(Python).ipynb\" target=\"_parent\"><img src=\"https://colab.research.google.com/assets/colab-badge.svg\" alt=\"Open In Colab\"/></a>"
      ]
    },
    {
      "cell_type": "markdown",
      "metadata": {
        "id": "EhQCajtPyrte"
      },
      "source": [
        "# **101 NumPy Exercises for Data Analysis (Python)**"
      ]
    },
    {
      "cell_type": "markdown",
      "metadata": {
        "id": "5DJNe24Xy1f6"
      },
      "source": [
        "## **1. Import numpy as np and see the version**\n",
        "Difficulty Level: L1\n",
        "\n",
        "Q. Import numpy as np and print the version number."
      ]
    },
    {
      "cell_type": "code",
      "metadata": {
        "colab": {
          "base_uri": "https://localhost:8080/"
        },
        "id": "BWkVqjoZy8f8",
        "outputId": "66c349e0-ea4a-41ed-c221-415bbbcbf3ab"
      },
      "source": [
        "import numpy as np\n",
        "\n",
        "print(np.__version__)"
      ],
      "execution_count": 1,
      "outputs": [
        {
          "output_type": "stream",
          "name": "stdout",
          "text": [
            "1.19.5\n"
          ]
        }
      ]
    },
    {
      "cell_type": "markdown",
      "metadata": {
        "id": "99Bb0B0qz6BM"
      },
      "source": [
        "## **2. How to create a 1D array?**\n",
        "Difficulty Level: L1<br>\n",
        "\n",
        "Q. Create a 1D array of numbers from 0 to 9 <br><br>\n",
        "Desired output:\n",
        "\n",
        "\n",
        "array([0, 1, 2, 3, 4, 5, 6, 7, 8, 9])"
      ]
    },
    {
      "cell_type": "code",
      "metadata": {
        "colab": {
          "base_uri": "https://localhost:8080/"
        },
        "id": "FWROsKIsz-jc",
        "outputId": "22543ab2-a42e-4fb0-d7f3-9ec475a32cb7"
      },
      "source": [
        "a=np.arange(10)\n",
        "print(a)"
      ],
      "execution_count": 3,
      "outputs": [
        {
          "output_type": "stream",
          "name": "stdout",
          "text": [
            "[0 1 2 3 4 5 6 7 8 9]\n"
          ]
        }
      ]
    },
    {
      "cell_type": "markdown",
      "metadata": {
        "id": "ta9FVcuP0VDD"
      },
      "source": [
        "## **3. How to create a boolean array?**\n",
        "Difficulty Level: L1\n",
        "\n",
        "Q. Create a 3×3 numpy array of all True’s"
      ]
    },
    {
      "cell_type": "code",
      "metadata": {
        "colab": {
          "base_uri": "https://localhost:8080/"
        },
        "id": "2jhDIuTo0Ztb",
        "outputId": "9f353ae9-cc5c-4c2a-a377-70417351dd54"
      },
      "source": [
        "a=np.ones((3,3),dtype=bool)\n",
        "print(\"method1:\",a,\"\\n\")\n",
        "b=np.full((3,3),True,dtype=bool)\n",
        "print(\"method2:\",b)"
      ],
      "execution_count": 26,
      "outputs": [
        {
          "output_type": "stream",
          "name": "stdout",
          "text": [
            "method1: [[ True  True  True]\n",
            " [ True  True  True]\n",
            " [ True  True  True]] \n",
            "\n",
            "method2: [[ True  True  True]\n",
            " [ True  True  True]\n",
            " [ True  True  True]]\n"
          ]
        }
      ]
    },
    {
      "cell_type": "markdown",
      "metadata": {
        "id": "OrUS_K0U01jj"
      },
      "source": [
        "# **4. How to extract items that satisfy a given condition from 1D array?**\n",
        "Difficulty Level: L1\n",
        "\n",
        "Q. Extract all odd numbers from arr<br><br>\n",
        "\n",
        "\n",
        "Input:\n",
        "\n",
        "arr = np.array([0, 1, 2, 3, 4, 5, 6, 7, 8, 9])<br><br>\n",
        "Desired output:<br>\n",
        "array([1, 3, 5, 7, 9])"
      ]
    },
    {
      "cell_type": "code",
      "metadata": {
        "colab": {
          "base_uri": "https://localhost:8080/"
        },
        "id": "Q2rLrUC61FdI",
        "outputId": "c235a91d-5810-48d3-92a4-457f0f1db528"
      },
      "source": [
        "a=np.arange(10)\n",
        "print(a,\"\\n\")\n",
        "a=a[a%2==1]\n",
        "print(a)"
      ],
      "execution_count": 27,
      "outputs": [
        {
          "output_type": "stream",
          "name": "stdout",
          "text": [
            "[0 1 2 3 4 5 6 7 8 9] \n",
            "\n",
            "[1 3 5 7 9]\n"
          ]
        }
      ]
    },
    {
      "cell_type": "markdown",
      "metadata": {
        "id": "Cfr4tCPr1zib"
      },
      "source": [
        "# **5. How to replace items that satisfy a condition with another value in numpy array?**\n",
        "Difficulty Level: L1<br>\n",
        "\n",
        "Q. Replace all odd numbers in arr with -1 <br><br>\n",
        "Input:\n",
        "\n",
        "\n",
        "arr = np.array([0, 1, 2, 3, 4, 5, 6, 7, 8, 9])<br><br>\n",
        "Desired Output:<br>\n",
        "array([ 0, -1,  2, -1,  4, -1,  6, -1,  8, -1])"
      ]
    },
    {
      "cell_type": "code",
      "metadata": {
        "colab": {
          "base_uri": "https://localhost:8080/"
        },
        "id": "0_OisXmg15Mx",
        "outputId": "1ffc137e-842e-44aa-e97d-7e5b67346507"
      },
      "source": [
        "a=np.arange(10)\n",
        "print(a,\"\\n\")\n",
        "a[a[a%2==1]]=-1\n",
        "print(a)"
      ],
      "execution_count": 8,
      "outputs": [
        {
          "output_type": "stream",
          "name": "stdout",
          "text": [
            "[0 1 2 3 4 5 6 7 8 9] \n",
            "\n",
            "[ 0 -1  2 -1  4 -1  6 -1  8 -1]\n"
          ]
        }
      ]
    },
    {
      "cell_type": "markdown",
      "metadata": {
        "id": "--jfZsz02V_6"
      },
      "source": [
        "# **6. How to replace items that satisfy a condition without affecting the original array?**\n",
        "Difficulty Level: L2\n",
        "\n",
        "Q. Replace all odd numbers in arr with -1 without changing arr\n",
        "<br><br>Input:\n",
        "\n",
        "arr = np.array([0, 1, 2, 3, 4, 5, 6, 7, 8, 9])<br><br>\n",
        "Desired Output:\n",
        "\n",
        "out\n",
        "array([ 0, -1,  2, -1,  4, -1,  6, -1,  8, -1])<br>\n",
        "arr\n",
        "array([0, 1, 2, 3, 4, 5, 6, 7, 8, 9])"
      ]
    },
    {
      "cell_type": "code",
      "metadata": {
        "colab": {
          "base_uri": "https://localhost:8080/"
        },
        "id": "Lxmc6rhf2YQa",
        "outputId": "a080d3a1-bde1-45f7-a1b3-4fcc83715d91"
      },
      "source": [
        "print(\"錯誤:\")\n",
        "a=np.arange(10)\n",
        "out=a\n",
        "out[out[out%2==1]]=-1\n",
        "print(\"a=\",a)\n",
        "print(\"out=\",out)\n",
        "print(\"\\n\")\n",
        "print(\"正確:\")\n",
        "b=np.arange(10)\n",
        "out=np.where(b%2==1,-1,b)\n",
        "print(\"b=\",b)\n",
        "print(\"out=\",out)\n",
        "print(\"\\n\")"
      ],
      "execution_count": 25,
      "outputs": [
        {
          "output_type": "stream",
          "name": "stdout",
          "text": [
            "錯誤:\n",
            "a= [ 0 -1  2 -1  4 -1  6 -1  8 -1]\n",
            "out= [ 0 -1  2 -1  4 -1  6 -1  8 -1]\n",
            "\n",
            "\n",
            "正確:\n",
            "b= [0 1 2 3 4 5 6 7 8 9]\n",
            "out= [ 0 -1  2 -1  4 -1  6 -1  8 -1]\n",
            "\n",
            "\n"
          ]
        }
      ]
    },
    {
      "cell_type": "markdown",
      "metadata": {
        "id": "WQ4kPA5T552W"
      },
      "source": [
        "# **7. How to reshape an array?**\n",
        "Difficulty Level: L1\n",
        "\n",
        "Q. Convert a 1D array to a 2D array with 2 rows<br><br>\n",
        "Input:\n",
        "\n",
        "np.arange(10)\n",
        "\n",
        "array([ 0, 1, 2, 3, 4, 5, 6, 7, 8, 9])<br><br>\n",
        "Desired Output:<br>\n",
        "\n",
        "array([[0, 1, 2, 3, 4],<br>\n",
        "[5, 6, 7, 8, 9]])"
      ]
    },
    {
      "cell_type": "code",
      "metadata": {
        "colab": {
          "base_uri": "https://localhost:8080/"
        },
        "id": "N1K0FPe259p1",
        "outputId": "65c4c923-62b7-492e-99e3-33db51a2a0f4"
      },
      "source": [
        "a=np.arange(10)\n",
        "print(a,\"\\n\")\n",
        "a=a.reshape(2,5)\n",
        "print(a)"
      ],
      "execution_count": 11,
      "outputs": [
        {
          "output_type": "stream",
          "name": "stdout",
          "text": [
            "[0 1 2 3 4 5 6 7 8 9] \n",
            "\n",
            "[[0 1 2 3 4]\n",
            " [5 6 7 8 9]]\n"
          ]
        }
      ]
    },
    {
      "cell_type": "markdown",
      "metadata": {
        "id": "8RjAMJeT7PBc"
      },
      "source": [
        "# **8. How to stack two arrays vertically?**\n",
        "Difficulty Level: L2<br>\n",
        "Q. Stack arrays a and b vertically<br><br>\n",
        "Input\n",
        "\n",
        "a = np.arange(10).reshape(2,-1)<br>\n",
        "b = np.repeat(1, 10).reshape(2,-1)<br><br>\n",
        "Desired Output:<br>\n",
        "\n",
        "\n",
        "array([[0, 1, 2, 3, 4],<br>\n",
        "  [5, 6, 7, 8, 9],<br>\n",
        "  [1, 1, 1, 1, 1],<br>\n",
        "  [1, 1, 1, 1, 1]])"
      ]
    },
    {
      "cell_type": "code",
      "metadata": {
        "colab": {
          "base_uri": "https://localhost:8080/"
        },
        "id": "wLtDUOHA7Hoj",
        "outputId": "e6362c72-61db-4595-fbba-1b67107aa849"
      },
      "source": [
        "a=np.arange(10).reshape(2,5)\n",
        "b=np.full((2,5),1)\n",
        "print(a,\"\\n\")\n",
        "print(b,\"\\n\")\n",
        "print(np.vstack([a,b]))"
      ],
      "execution_count": 17,
      "outputs": [
        {
          "output_type": "stream",
          "name": "stdout",
          "text": [
            "[[0 1 2 3 4]\n",
            " [5 6 7 8 9]] \n",
            "\n",
            "[[1 1 1 1 1]\n",
            " [1 1 1 1 1]] \n",
            "\n",
            "[[0 1 2 3 4]\n",
            " [5 6 7 8 9]\n",
            " [1 1 1 1 1]\n",
            " [1 1 1 1 1]]\n"
          ]
        }
      ]
    },
    {
      "cell_type": "markdown",
      "metadata": {
        "id": "cZ7rITlB7HcU"
      },
      "source": [
        "# **9. How to stack two arrays horizontally?**\n",
        "Difficulty Level: L2\n",
        "\n",
        "Q. Stack the arrays a and b horizontally.<br><br>\n",
        "Input<br>\n",
        "\n",
        "a = np.arange(10).reshape(2,-1)\n",
        "\n",
        "b = np.repeat(1, 10).reshape(2,-1)<br><br>\n",
        "Desired Output:<br>\n",
        "\n",
        "array([[0, 1, 2, 3, 4, 1, 1, 1, 1, 1],<br>\n",
        "[5, 6, 7, 8, 9, 1, 1, 1, 1, 1]])"
      ]
    },
    {
      "cell_type": "code",
      "metadata": {
        "colab": {
          "base_uri": "https://localhost:8080/"
        },
        "id": "uevqZefm7Ryc",
        "outputId": "1d3df851-f2be-4bbe-d5ac-7170d69d54e7"
      },
      "source": [
        "a=np.arange(10).reshape(2,5)\n",
        "b=np.full((2,5),1)\n",
        "print(a,\"\\n\")\n",
        "print(b,\"\\n\")\n",
        "print(np.hstack([a,b]))"
      ],
      "execution_count": 18,
      "outputs": [
        {
          "output_type": "stream",
          "name": "stdout",
          "text": [
            "[[0 1 2 3 4]\n",
            " [5 6 7 8 9]] \n",
            "\n",
            "[[1 1 1 1 1]\n",
            " [1 1 1 1 1]] \n",
            "\n",
            "[[0 1 2 3 4 1 1 1 1 1]\n",
            " [5 6 7 8 9 1 1 1 1 1]]\n"
          ]
        }
      ]
    },
    {
      "cell_type": "markdown",
      "metadata": {
        "id": "CqsJpNxd_xco"
      },
      "source": [
        "# **10. How to generate custom sequences in numpy without hardcoding?**\n",
        "Difficulty Level: L2\n",
        "\n",
        "Q. Create the following pattern without hardcoding. Use only numpy functions and the below input array a.<br><br>\n",
        "\n",
        "Input:\n",
        "\n",
        "\n",
        "a = np.array([1,2,3])<br><br>\n",
        "Desired Output:<br>\n",
        "\n",
        "array([1, 1, 1, 2, 2, 2, 3, 3, 3, 1, 2, 3, 1, 2, 3, 1, 2, 3])"
      ]
    },
    {
      "cell_type": "code",
      "metadata": {
        "colab": {
          "base_uri": "https://localhost:8080/"
        },
        "id": "ra9SHRm6_1GY",
        "outputId": "1d502a34-cda9-416f-f9e6-423181638659"
      },
      "source": [
        "#np.repeat：复制的是多维数组的每一个元素\n",
        "#np.tile：复制的是多维数组本身\n",
        "a=np.arange(3)\n",
        "print(a)\n",
        "b=np.r_[np.repeat(a,3),np.tile(a,3)] #复制3次\n",
        "#np.r_是按列连接两个矩阵，就是把两矩阵上下相加，要求列数相等，类似于pandas中的concat()。\n",
        "#np.c_是按行连接两个矩阵，就是把两矩阵左右相加，要求行数相等，类似于pandas中的merge()。\n",
        "print(b)"
      ],
      "execution_count": 21,
      "outputs": [
        {
          "output_type": "stream",
          "name": "stdout",
          "text": [
            "[1 2 3]\n",
            "[1 1 1 2 2 2 3 3 3 1 2 3 1 2 3 1 2 3]\n"
          ]
        }
      ]
    },
    {
      "cell_type": "markdown",
      "metadata": {
        "id": "YqZsu73pEqXm"
      },
      "source": [
        "# **11. How to get the common items between two python numpy arrays?**\n",
        "Difficulty Level: L2\n",
        "\n",
        "Q. Get the common items between a and b\n",
        " <br>  <br> \n",
        "Input:\n",
        "\n",
        "a = np.array([1,2,3,2,3,4,3,4,5,6]) <br> \n",
        "b = np.array([7,2,10,2,7,4,9,4,9,8]) <br><br>\n",
        "\n",
        "Desired Output:\n",
        "\n",
        "array([2, 4])"
      ]
    },
    {
      "cell_type": "code",
      "metadata": {
        "colab": {
          "base_uri": "https://localhost:8080/"
        },
        "id": "PIjIDjv5FdNF",
        "outputId": "e5661776-4e10-4753-9b9c-673f7c527d85"
      },
      "source": [
        "a=np.array([1,2,3,2,3,4,3,4,5,6]) #直接創list\n",
        "b=np.array([7,2,10,2,7,4,9,4,9,8]) #直接創list\n",
        "c=np.intersect1d(a,b)\n",
        "print(c)"
      ],
      "execution_count": 32,
      "outputs": [
        {
          "output_type": "stream",
          "name": "stdout",
          "text": [
            "[2 4]\n"
          ]
        }
      ]
    },
    {
      "cell_type": "code",
      "metadata": {
        "id": "z4__-GBOJkCZ"
      },
      "source": [
        ""
      ],
      "execution_count": null,
      "outputs": []
    },
    {
      "cell_type": "markdown",
      "metadata": {
        "id": "LhVnWlNAJj1x"
      },
      "source": [
        ""
      ]
    }
  ]
}