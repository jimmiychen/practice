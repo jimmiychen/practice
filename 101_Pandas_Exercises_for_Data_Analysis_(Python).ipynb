{
  "nbformat": 4,
  "nbformat_minor": 0,
  "metadata": {
    "colab": {
      "name": "101 Pandas Exercises for Data Analysis (Python).ipynb",
      "provenance": [],
      "collapsed_sections": [],
      "authorship_tag": "ABX9TyOo5Um4R1SQubJ9Rd+aMsAn",
      "include_colab_link": true
    },
    "kernelspec": {
      "name": "python3",
      "display_name": "Python 3"
    },
    "language_info": {
      "name": "python"
    }
  },
  "cells": [
    {
      "cell_type": "markdown",
      "metadata": {
        "id": "view-in-github",
        "colab_type": "text"
      },
      "source": [
        "<a href=\"https://colab.research.google.com/github/jimmiychen/practice/blob/main/101_Pandas_Exercises_for_Data_Analysis_(Python).ipynb\" target=\"_parent\"><img src=\"https://colab.research.google.com/assets/colab-badge.svg\" alt=\"Open In Colab\"/></a>"
      ]
    },
    {
      "cell_type": "markdown",
      "metadata": {
        "id": "isiKELiRSKgq"
      },
      "source": [
        "# **1. How to import pandas and check the version?**"
      ]
    },
    {
      "cell_type": "code",
      "metadata": {
        "colab": {
          "base_uri": "https://localhost:8080/"
        },
        "id": "foQ_IGfQSOAx",
        "outputId": "930f58da-0307-437f-e7e0-788e64fc6f28"
      },
      "source": [
        "import numpy as np\n",
        "\n",
        "print(np.__version__)\n",
        "\n",
        "import pandas as pd\n",
        "\n",
        "print(pd.__version__)"
      ],
      "execution_count": 2,
      "outputs": [
        {
          "output_type": "stream",
          "name": "stdout",
          "text": [
            "1.19.5\n",
            "1.1.5\n"
          ]
        }
      ]
    },
    {
      "cell_type": "markdown",
      "metadata": {
        "id": "OkFc4MjbSpcA"
      },
      "source": [
        "# **2. How to create a series from a list, numpy array and dict?**\n",
        "Create a pandas series from each of the items below: a list, numpy and a dictionary<br><br>\n",
        "\n",
        "\n",
        "\n",
        "Input<br>\n",
        "\n",
        "\n",
        "import numpy as np<br>\n",
        "mylist = list('abcedfghijklmnopqrstuvwxyz')<br>\n",
        "myarr = np.arange(26)<br>\n",
        "mydict = dict(zip(mylist, myarr))<br>\n"
      ]
    },
    {
      "cell_type": "code",
      "metadata": {
        "colab": {
          "base_uri": "https://localhost:8080/"
        },
        "id": "bCEVXZPHSpxg",
        "outputId": "a559429e-ddf0-4a1e-997b-ca029e8fefbd"
      },
      "source": [
        "mylist = list('abcedfghijklmnopqrstuvwxyz')\n",
        "myarr = np.arange(26)\n",
        "mydict = dict(zip(mylist, myarr))\n",
        "\n",
        "ser1=pd.Series(mylist)\n",
        "print(ser1)\n",
        "print(\"\\n\")\n",
        "ser2=pd.Series(myarr)\n",
        "print(ser2)\n",
        "print(\"\\n\")\n",
        "ser3=pd.Series(mydict)\n",
        "print(ser3)"
      ],
      "execution_count": null,
      "outputs": [
        {
          "output_type": "stream",
          "name": "stdout",
          "text": [
            "0     a\n",
            "1     b\n",
            "2     c\n",
            "3     e\n",
            "4     d\n",
            "5     f\n",
            "6     g\n",
            "7     h\n",
            "8     i\n",
            "9     j\n",
            "10    k\n",
            "11    l\n",
            "12    m\n",
            "13    n\n",
            "14    o\n",
            "15    p\n",
            "16    q\n",
            "17    r\n",
            "18    s\n",
            "19    t\n",
            "20    u\n",
            "21    v\n",
            "22    w\n",
            "23    x\n",
            "24    y\n",
            "25    z\n",
            "dtype: object\n",
            "\n",
            "\n",
            "0      0\n",
            "1      1\n",
            "2      2\n",
            "3      3\n",
            "4      4\n",
            "5      5\n",
            "6      6\n",
            "7      7\n",
            "8      8\n",
            "9      9\n",
            "10    10\n",
            "11    11\n",
            "12    12\n",
            "13    13\n",
            "14    14\n",
            "15    15\n",
            "16    16\n",
            "17    17\n",
            "18    18\n",
            "19    19\n",
            "20    20\n",
            "21    21\n",
            "22    22\n",
            "23    23\n",
            "24    24\n",
            "25    25\n",
            "dtype: int64\n",
            "\n",
            "\n",
            "a     0\n",
            "b     1\n",
            "c     2\n",
            "e     3\n",
            "d     4\n",
            "f     5\n",
            "g     6\n",
            "h     7\n",
            "i     8\n",
            "j     9\n",
            "k    10\n",
            "l    11\n",
            "m    12\n",
            "n    13\n",
            "o    14\n",
            "p    15\n",
            "q    16\n",
            "r    17\n",
            "s    18\n",
            "t    19\n",
            "u    20\n",
            "v    21\n",
            "w    22\n",
            "x    23\n",
            "y    24\n",
            "z    25\n",
            "dtype: int64\n"
          ]
        }
      ]
    },
    {
      "cell_type": "markdown",
      "metadata": {
        "id": "ql6ZpbsaVv6E"
      },
      "source": [
        "# **3. How to convert the index of a series into a column of a dataframe?**\n",
        "Difficulty Level: L1\n",
        "\n",
        "Convert the series ser into a dataframe with its index as another column on the dataframe.<br><br>\n",
        "\n",
        "Input\n",
        "\n",
        "mylist = list('abcedfghijklmnopqrstuvwxyz')<br>\n",
        "myarr = np.arange(26)<br>\n",
        "mydict = dict(zip(mylist, myarr))<br>\n",
        "ser = pd.Series(mydict)<br>"
      ]
    },
    {
      "cell_type": "code",
      "metadata": {
        "colab": {
          "base_uri": "https://localhost:8080/"
        },
        "id": "4TJn4CjOVwh2",
        "outputId": "a6b0dbcd-a9ea-4c71-d98a-86418f554a46"
      },
      "source": [
        "mylist = list('abcedfghijklmnopqrstuvwxyz')\n",
        "myarr = np.arange(26)\n",
        "mydict = dict(zip(mylist, myarr))\n",
        "ser = pd.Series(mydict)\n",
        "df=ser.to_frame().reset_index()\n",
        "print(df)"
      ],
      "execution_count": null,
      "outputs": [
        {
          "output_type": "stream",
          "name": "stdout",
          "text": [
            "   index   0\n",
            "0      a   0\n",
            "1      b   1\n",
            "2      c   2\n",
            "3      e   3\n",
            "4      d   4\n",
            "5      f   5\n",
            "6      g   6\n",
            "7      h   7\n",
            "8      i   8\n",
            "9      j   9\n",
            "10     k  10\n",
            "11     l  11\n",
            "12     m  12\n",
            "13     n  13\n",
            "14     o  14\n",
            "15     p  15\n",
            "16     q  16\n",
            "17     r  17\n",
            "18     s  18\n",
            "19     t  19\n",
            "20     u  20\n",
            "21     v  21\n",
            "22     w  22\n",
            "23     x  23\n",
            "24     y  24\n",
            "25     z  25\n"
          ]
        }
      ]
    },
    {
      "cell_type": "markdown",
      "metadata": {
        "id": "bBLXOOID2Rz2"
      },
      "source": [
        "# **4. How to combine many series to form a dataframe?**\n",
        "Difficulty Level: L1\n",
        "\n",
        "Combine ser1 and ser2 to form a dataframe.<br><br>\n",
        "\n",
        "Input\n",
        "\n",
        "import numpy as np<br>\n",
        "ser1 = pd.Series(list('abcedfghijklmnopqrstuvwxyz'))<br>\n",
        "ser2 = pd.Series(np.arange(26))<br>"
      ]
    },
    {
      "cell_type": "code",
      "metadata": {
        "colab": {
          "base_uri": "https://localhost:8080/"
        },
        "id": "U_1cXIef2SN8",
        "outputId": "84c38c22-336e-481b-c45d-29c5b2e1f321"
      },
      "source": [
        "ser1 = pd.Series(list('abcedfghijklmnopqrstuvwxyz'))\n",
        "ser2 = pd.Series(np.arange(26))\n",
        "print(ser1)\n",
        "print(\"\\n\")\n",
        "print(ser2)\n",
        "print(\"\\n\")\n",
        "\n",
        "df1=pd.concat([ser1, ser2], axis=1)\n",
        "print(df1)\n",
        "print(\"\\n\")\n",
        "\n",
        "#字典表示法\n",
        "df2=pd.DataFrame(\n",
        "        {\n",
        "          \"col1\":ser1,\n",
        "          \"col2\":ser2       \n",
        "  }  \n",
        ")\n",
        "print(df2)"
      ],
      "execution_count": 3,
      "outputs": [
        {
          "output_type": "stream",
          "name": "stdout",
          "text": [
            "0     a\n",
            "1     b\n",
            "2     c\n",
            "3     e\n",
            "4     d\n",
            "5     f\n",
            "6     g\n",
            "7     h\n",
            "8     i\n",
            "9     j\n",
            "10    k\n",
            "11    l\n",
            "12    m\n",
            "13    n\n",
            "14    o\n",
            "15    p\n",
            "16    q\n",
            "17    r\n",
            "18    s\n",
            "19    t\n",
            "20    u\n",
            "21    v\n",
            "22    w\n",
            "23    x\n",
            "24    y\n",
            "25    z\n",
            "dtype: object\n",
            "\n",
            "\n",
            "0      0\n",
            "1      1\n",
            "2      2\n",
            "3      3\n",
            "4      4\n",
            "5      5\n",
            "6      6\n",
            "7      7\n",
            "8      8\n",
            "9      9\n",
            "10    10\n",
            "11    11\n",
            "12    12\n",
            "13    13\n",
            "14    14\n",
            "15    15\n",
            "16    16\n",
            "17    17\n",
            "18    18\n",
            "19    19\n",
            "20    20\n",
            "21    21\n",
            "22    22\n",
            "23    23\n",
            "24    24\n",
            "25    25\n",
            "dtype: int64\n",
            "\n",
            "\n",
            "    0   1\n",
            "0   a   0\n",
            "1   b   1\n",
            "2   c   2\n",
            "3   e   3\n",
            "4   d   4\n",
            "5   f   5\n",
            "6   g   6\n",
            "7   h   7\n",
            "8   i   8\n",
            "9   j   9\n",
            "10  k  10\n",
            "11  l  11\n",
            "12  m  12\n",
            "13  n  13\n",
            "14  o  14\n",
            "15  p  15\n",
            "16  q  16\n",
            "17  r  17\n",
            "18  s  18\n",
            "19  t  19\n",
            "20  u  20\n",
            "21  v  21\n",
            "22  w  22\n",
            "23  x  23\n",
            "24  y  24\n",
            "25  z  25\n",
            "\n",
            "\n",
            "   col1  col2\n",
            "0     a     0\n",
            "1     b     1\n",
            "2     c     2\n",
            "3     e     3\n",
            "4     d     4\n",
            "5     f     5\n",
            "6     g     6\n",
            "7     h     7\n",
            "8     i     8\n",
            "9     j     9\n",
            "10    k    10\n",
            "11    l    11\n",
            "12    m    12\n",
            "13    n    13\n",
            "14    o    14\n",
            "15    p    15\n",
            "16    q    16\n",
            "17    r    17\n",
            "18    s    18\n",
            "19    t    19\n",
            "20    u    20\n",
            "21    v    21\n",
            "22    w    22\n",
            "23    x    23\n",
            "24    y    24\n",
            "25    z    25\n"
          ]
        }
      ]
    },
    {
      "cell_type": "markdown",
      "metadata": {
        "id": "8hDRPcRSQuu9"
      },
      "source": [
        "# **5. How to assign name to the series’ index?**\n",
        "Difficulty Level: L1\n",
        "\n",
        "Give a name to the series ser calling it ‘alphabets’.<br><br>\n",
        "\n",
        "Input\n",
        "\n",
        "ser = pd.Series(list('abcedfghijklmnopqrstuvwxyz'))"
      ]
    },
    {
      "cell_type": "code",
      "metadata": {
        "colab": {
          "base_uri": "https://localhost:8080/"
        },
        "id": "5vcZxe0yQvK1",
        "outputId": "e48b3b48-eead-4211-d06c-94c296944a00"
      },
      "source": [
        "ser = pd.Series(list('abcedfghijklmnopqrstuvwxyz'))\n",
        "ser.name='alphabets'\n",
        "print(ser)"
      ],
      "execution_count": 9,
      "outputs": [
        {
          "output_type": "stream",
          "name": "stdout",
          "text": [
            "0     a\n",
            "1     b\n",
            "2     c\n",
            "3     e\n",
            "4     d\n",
            "5     f\n",
            "6     g\n",
            "7     h\n",
            "8     i\n",
            "9     j\n",
            "10    k\n",
            "11    l\n",
            "12    m\n",
            "13    n\n",
            "14    o\n",
            "15    p\n",
            "16    q\n",
            "17    r\n",
            "18    s\n",
            "19    t\n",
            "20    u\n",
            "21    v\n",
            "22    w\n",
            "23    x\n",
            "24    y\n",
            "25    z\n",
            "Name: alphabets, dtype: object\n"
          ]
        }
      ]
    },
    {
      "cell_type": "markdown",
      "metadata": {
        "id": "8j3e2ZKQRsIU"
      },
      "source": [
        "# **6. How to get the items of series A not present in series B?**\n",
        "Difficulty Level: L2\n",
        "\n",
        "From ser1 remove items present in ser2.\n",
        "\n",
        "ser1 = pd.Series([1, 2, 3, 4, 5])<br>\n",
        "ser2 = pd.Series([4, 5, 6, 7, 8])"
      ]
    },
    {
      "cell_type": "code",
      "metadata": {
        "colab": {
          "base_uri": "https://localhost:8080/"
        },
        "id": "hgCfLVJNRsdD",
        "outputId": "a82e4cd9-6d4c-4400-c0f3-5cb23c2468cf"
      },
      "source": [
        "ser1 = pd.Series([1, 2, 3, 4, 5])\n",
        "ser2 = pd.Series([4, 5, 6, 7, 8])\n",
        "ser1[~ser1.isin(ser2)] #isin=is in "
      ],
      "execution_count": 12,
      "outputs": [
        {
          "output_type": "execute_result",
          "data": {
            "text/plain": [
              "0    1\n",
              "1    2\n",
              "2    3\n",
              "dtype: int64"
            ]
          },
          "metadata": {},
          "execution_count": 12
        }
      ]
    },
    {
      "cell_type": "markdown",
      "metadata": {
        "id": "Nx0ASDxqTIgb"
      },
      "source": [
        "# **7. How to get the items not common to both series A and series B?**\n",
        "Difficulty Level: L2\n",
        "\n",
        "\n",
        "\n",
        "Get all items of ser1 and ser2 not common to both.<br><br>\n",
        "\n",
        "Input\n",
        "\n",
        "ser1 = pd.Series([1, 2, 3, 4, 5])<br>\n",
        "ser2 = pd.Series([4, 5, 6, 7, 8])"
      ]
    },
    {
      "cell_type": "code",
      "metadata": {
        "colab": {
          "base_uri": "https://localhost:8080/"
        },
        "id": "Vou7mWy7TI1z",
        "outputId": "17466a4c-cf5c-40c7-a2d4-c13fe5d0ed78"
      },
      "source": [
        "ser_u = pd.Series(np.union1d(ser1, ser2))  # 結合numpy union\n",
        "ser_i = pd.Series(np.intersect1d(ser1, ser2))  # 結合numpy intersect\n",
        "print(ser_u)\n",
        "print(\"\\n\")\n",
        "print(ser_i)\n",
        "print(\"\\n\")\n",
        "ser_u[~ser_u.isin(ser_i)]"
      ],
      "execution_count": 16,
      "outputs": [
        {
          "output_type": "stream",
          "name": "stdout",
          "text": [
            "0    1\n",
            "1    2\n",
            "2    3\n",
            "3    4\n",
            "4    5\n",
            "5    6\n",
            "6    7\n",
            "7    8\n",
            "dtype: int64\n",
            "\n",
            "\n",
            "0    4\n",
            "1    5\n",
            "dtype: int64\n",
            "\n",
            "\n"
          ]
        },
        {
          "output_type": "execute_result",
          "data": {
            "text/plain": [
              "0    1\n",
              "1    2\n",
              "2    3\n",
              "5    6\n",
              "6    7\n",
              "7    8\n",
              "dtype: int64"
            ]
          },
          "metadata": {},
          "execution_count": 16
        }
      ]
    },
    {
      "cell_type": "markdown",
      "metadata": {
        "id": "XQPt5vPiUOf6"
      },
      "source": [
        "# **8. How to get the minimum, 25th percentile, median, 75th, and max of a numeric series?**\n",
        "Difficuty Level: L2\n",
        "\n",
        "Compute the minimum, 25th percentile, median, 75th, and maximum of ser.<br><br>\n",
        "\n",
        "Input\n",
        "\n",
        "ser = pd.Series(np.random.normal(10, 5, 25))"
      ]
    },
    {
      "cell_type": "code",
      "metadata": {
        "colab": {
          "base_uri": "https://localhost:8080/"
        },
        "id": "t_UOisQNUPVR",
        "outputId": "905c58b9-5b19-4e18-b730-95508be31410"
      },
      "source": [
        "ser = pd.Series(np.random.normal(10, 5, 25))\n",
        "print(ser)\n",
        "print(\"\\n\")\n",
        "print(ser.min())\n",
        "print(ser.median())\n",
        "print(ser.max())\n",
        "print(\"\\n\")\n",
        "print(np.percentile(ser,[0,25,50,75,100])) # 結合numpy percentile"
      ],
      "execution_count": 25,
      "outputs": [
        {
          "output_type": "stream",
          "name": "stdout",
          "text": [
            "0      9.474632\n",
            "1      3.323937\n",
            "2      4.932961\n",
            "3      9.021201\n",
            "4     13.034748\n",
            "5      4.061385\n",
            "6      6.452198\n",
            "7      4.478376\n",
            "8     12.727458\n",
            "9     11.625934\n",
            "10     6.044956\n",
            "11    12.730805\n",
            "12     4.185546\n",
            "13    12.600429\n",
            "14     1.708842\n",
            "15     1.742103\n",
            "16     9.215212\n",
            "17    12.086126\n",
            "18     8.829092\n",
            "19    20.245458\n",
            "20    10.610033\n",
            "21    18.814137\n",
            "22     8.008287\n",
            "23     7.421621\n",
            "24    -4.982349\n",
            "dtype: float64\n",
            "\n",
            "\n",
            "-4.982349343370458\n",
            "8.829091670330252\n",
            "20.24545847044358\n",
            "\n",
            "\n",
            "[-4.98234934  4.47837579  8.82909167 12.08612648 20.24545847]\n"
          ]
        }
      ]
    },
    {
      "cell_type": "markdown",
      "metadata": {
        "id": "GbylNGlFVnEx"
      },
      "source": [
        "# **9. How to get frequency counts of unique items of a series?**\n",
        "Difficulty Level: L1\n",
        "\n",
        "Calculte the frequency counts of each unique value ser.<br><br>\n",
        "\n",
        "Input\n",
        "\n",
        "ser = pd.Series(np.take(list('abcdefgh'), np.random.randint(8, size=30)))"
      ]
    },
    {
      "cell_type": "code",
      "metadata": {
        "colab": {
          "base_uri": "https://localhost:8080/"
        },
        "id": "RL1GBHwzVnf4",
        "outputId": "c36bfe9d-709d-48a5-c44c-21709d1e83d2"
      },
      "source": [
        "ser = pd.Series(np.take(list('abcdefgh'), np.random.randint(8, size=30)))\n",
        "print(ser.value_counts())"
      ],
      "execution_count": 32,
      "outputs": [
        {
          "output_type": "stream",
          "name": "stdout",
          "text": [
            "c    8\n",
            "f    5\n",
            "g    5\n",
            "e    4\n",
            "d    3\n",
            "h    2\n",
            "b    2\n",
            "a    1\n",
            "dtype: int64\n"
          ]
        }
      ]
    },
    {
      "cell_type": "markdown",
      "metadata": {
        "id": "PACC0f8oW0y_"
      },
      "source": [
        "# **10. How to keep only top 2 most frequent values as it is and replace everything else as ‘Other’?**\n",
        "Difficulty Level: L2\n",
        "\n",
        "From ser, keep the top 2 most frequent items as it is and replace everything else as ‘Other’.<br><br>\n",
        "\n",
        "\n",
        "Input\n",
        "\n",
        "np.random.RandomState(100)<br>\n",
        "ser = pd.Series(np.random.randint(1, 5, [12]))"
      ]
    },
    {
      "cell_type": "code",
      "metadata": {
        "colab": {
          "base_uri": "https://localhost:8080/"
        },
        "id": "yZIZ6x_SW1oX",
        "outputId": "dd58491a-55a7-4afc-fa22-f741796e9439"
      },
      "source": [
        "#np.random.RandomState(100)\n",
        "ser = pd.Series(np.random.randint(1, 10, [20]))\n",
        "print(ser)\n",
        "print(\"\\n\")\n",
        "print(\"Top 2 Freq:\\n\", ser.value_counts())\n",
        "ser[~ser.isin(ser.value_counts().index[:2])] = 'Other'\n",
        "print(ser)"
      ],
      "execution_count": 56,
      "outputs": [
        {
          "output_type": "stream",
          "name": "stdout",
          "text": [
            "0     3\n",
            "1     8\n",
            "2     6\n",
            "3     8\n",
            "4     3\n",
            "5     4\n",
            "6     9\n",
            "7     6\n",
            "8     6\n",
            "9     6\n",
            "10    9\n",
            "11    3\n",
            "12    3\n",
            "13    1\n",
            "14    1\n",
            "15    1\n",
            "16    3\n",
            "17    5\n",
            "18    9\n",
            "19    9\n",
            "dtype: int64\n",
            "\n",
            "\n",
            "Top 2 Freq:\n",
            " 3    5\n",
            "9    4\n",
            "6    4\n",
            "1    3\n",
            "8    2\n",
            "5    1\n",
            "4    1\n",
            "dtype: int64\n",
            "0         3\n",
            "1     Other\n",
            "2     Other\n",
            "3     Other\n",
            "4         3\n",
            "5     Other\n",
            "6         9\n",
            "7     Other\n",
            "8     Other\n",
            "9     Other\n",
            "10        9\n",
            "11        3\n",
            "12        3\n",
            "13    Other\n",
            "14    Other\n",
            "15    Other\n",
            "16        3\n",
            "17    Other\n",
            "18        9\n",
            "19        9\n",
            "dtype: object\n"
          ]
        }
      ]
    },
    {
      "cell_type": "code",
      "metadata": {
        "id": "puBv_cu6X_0J"
      },
      "source": [
        ""
      ],
      "execution_count": null,
      "outputs": []
    }
  ]
}