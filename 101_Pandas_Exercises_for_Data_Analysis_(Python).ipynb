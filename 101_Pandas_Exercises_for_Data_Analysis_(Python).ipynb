{
  "nbformat": 4,
  "nbformat_minor": 0,
  "metadata": {
    "colab": {
      "name": "101 Pandas Exercises for Data Analysis (Python).ipynb",
      "provenance": [],
      "collapsed_sections": [],
      "authorship_tag": "ABX9TyOJvbyMpv4iP41zr8RaHHkP",
      "include_colab_link": true
    },
    "kernelspec": {
      "name": "python3",
      "display_name": "Python 3"
    },
    "language_info": {
      "name": "python"
    }
  },
  "cells": [
    {
      "cell_type": "markdown",
      "metadata": {
        "id": "view-in-github",
        "colab_type": "text"
      },
      "source": [
        "<a href=\"https://colab.research.google.com/github/jimmiychen/practice/blob/main/101_Pandas_Exercises_for_Data_Analysis_(Python).ipynb\" target=\"_parent\"><img src=\"https://colab.research.google.com/assets/colab-badge.svg\" alt=\"Open In Colab\"/></a>"
      ]
    },
    {
      "cell_type": "markdown",
      "metadata": {
        "id": "isiKELiRSKgq"
      },
      "source": [
        "# **1. How to import pandas and check the version?**"
      ]
    },
    {
      "cell_type": "code",
      "metadata": {
        "colab": {
          "base_uri": "https://localhost:8080/"
        },
        "id": "foQ_IGfQSOAx",
        "outputId": "a4878db4-7d14-495a-9737-4716b7952eb7"
      },
      "source": [
        "import numpy as np\n",
        "\n",
        "print(np.__version__)\n",
        "\n",
        "import pandas as pd\n",
        "\n",
        "print(pd.__version__)"
      ],
      "execution_count": 2,
      "outputs": [
        {
          "output_type": "stream",
          "name": "stdout",
          "text": [
            "1.19.5\n",
            "1.1.5\n"
          ]
        }
      ]
    },
    {
      "cell_type": "markdown",
      "metadata": {
        "id": "OkFc4MjbSpcA"
      },
      "source": [
        "# **2. How to create a series from a list, numpy array and dict?**\n",
        "Create a pandas series from each of the items below: a list, numpy and a dictionary<br><br>\n",
        "\n",
        "\n",
        "\n",
        "Input<br>\n",
        "\n",
        "\n",
        "import numpy as np<br>\n",
        "mylist = list('abcedfghijklmnopqrstuvwxyz')<br>\n",
        "myarr = np.arange(26)<br>\n",
        "mydict = dict(zip(mylist, myarr))<br>\n"
      ]
    },
    {
      "cell_type": "code",
      "metadata": {
        "colab": {
          "base_uri": "https://localhost:8080/"
        },
        "id": "bCEVXZPHSpxg",
        "outputId": "a559429e-ddf0-4a1e-997b-ca029e8fefbd"
      },
      "source": [
        "mylist = list('abcedfghijklmnopqrstuvwxyz')\n",
        "myarr = np.arange(26)\n",
        "mydict = dict(zip(mylist, myarr))\n",
        "\n",
        "ser1=pd.Series(mylist)\n",
        "print(ser1)\n",
        "print(\"\\n\")\n",
        "ser2=pd.Series(myarr)\n",
        "print(ser2)\n",
        "print(\"\\n\")\n",
        "ser3=pd.Series(mydict)\n",
        "print(ser3)"
      ],
      "execution_count": null,
      "outputs": [
        {
          "output_type": "stream",
          "name": "stdout",
          "text": [
            "0     a\n",
            "1     b\n",
            "2     c\n",
            "3     e\n",
            "4     d\n",
            "5     f\n",
            "6     g\n",
            "7     h\n",
            "8     i\n",
            "9     j\n",
            "10    k\n",
            "11    l\n",
            "12    m\n",
            "13    n\n",
            "14    o\n",
            "15    p\n",
            "16    q\n",
            "17    r\n",
            "18    s\n",
            "19    t\n",
            "20    u\n",
            "21    v\n",
            "22    w\n",
            "23    x\n",
            "24    y\n",
            "25    z\n",
            "dtype: object\n",
            "\n",
            "\n",
            "0      0\n",
            "1      1\n",
            "2      2\n",
            "3      3\n",
            "4      4\n",
            "5      5\n",
            "6      6\n",
            "7      7\n",
            "8      8\n",
            "9      9\n",
            "10    10\n",
            "11    11\n",
            "12    12\n",
            "13    13\n",
            "14    14\n",
            "15    15\n",
            "16    16\n",
            "17    17\n",
            "18    18\n",
            "19    19\n",
            "20    20\n",
            "21    21\n",
            "22    22\n",
            "23    23\n",
            "24    24\n",
            "25    25\n",
            "dtype: int64\n",
            "\n",
            "\n",
            "a     0\n",
            "b     1\n",
            "c     2\n",
            "e     3\n",
            "d     4\n",
            "f     5\n",
            "g     6\n",
            "h     7\n",
            "i     8\n",
            "j     9\n",
            "k    10\n",
            "l    11\n",
            "m    12\n",
            "n    13\n",
            "o    14\n",
            "p    15\n",
            "q    16\n",
            "r    17\n",
            "s    18\n",
            "t    19\n",
            "u    20\n",
            "v    21\n",
            "w    22\n",
            "x    23\n",
            "y    24\n",
            "z    25\n",
            "dtype: int64\n"
          ]
        }
      ]
    },
    {
      "cell_type": "markdown",
      "metadata": {
        "id": "ql6ZpbsaVv6E"
      },
      "source": [
        "# **3. How to convert the index of a series into a column of a dataframe?**\n",
        "Difficulty Level: L1\n",
        "\n",
        "Convert the series ser into a dataframe with its index as another column on the dataframe.<br><br>\n",
        "\n",
        "Input\n",
        "\n",
        "mylist = list('abcedfghijklmnopqrstuvwxyz')<br>\n",
        "myarr = np.arange(26)<br>\n",
        "mydict = dict(zip(mylist, myarr))<br>\n",
        "ser = pd.Series(mydict)<br>"
      ]
    },
    {
      "cell_type": "code",
      "metadata": {
        "colab": {
          "base_uri": "https://localhost:8080/"
        },
        "id": "4TJn4CjOVwh2",
        "outputId": "a6b0dbcd-a9ea-4c71-d98a-86418f554a46"
      },
      "source": [
        "mylist = list('abcedfghijklmnopqrstuvwxyz')\n",
        "myarr = np.arange(26)\n",
        "mydict = dict(zip(mylist, myarr))\n",
        "ser = pd.Series(mydict)\n",
        "df=ser.to_frame().reset_index()\n",
        "print(df)"
      ],
      "execution_count": null,
      "outputs": [
        {
          "output_type": "stream",
          "name": "stdout",
          "text": [
            "   index   0\n",
            "0      a   0\n",
            "1      b   1\n",
            "2      c   2\n",
            "3      e   3\n",
            "4      d   4\n",
            "5      f   5\n",
            "6      g   6\n",
            "7      h   7\n",
            "8      i   8\n",
            "9      j   9\n",
            "10     k  10\n",
            "11     l  11\n",
            "12     m  12\n",
            "13     n  13\n",
            "14     o  14\n",
            "15     p  15\n",
            "16     q  16\n",
            "17     r  17\n",
            "18     s  18\n",
            "19     t  19\n",
            "20     u  20\n",
            "21     v  21\n",
            "22     w  22\n",
            "23     x  23\n",
            "24     y  24\n",
            "25     z  25\n"
          ]
        }
      ]
    },
    {
      "cell_type": "markdown",
      "metadata": {
        "id": "bBLXOOID2Rz2"
      },
      "source": [
        "# **4. How to combine many series to form a dataframe?**\n",
        "Difficulty Level: L1\n",
        "\n",
        "Combine ser1 and ser2 to form a dataframe.<br><br>\n",
        "\n",
        "Input\n",
        "\n",
        "import numpy as np<br>\n",
        "ser1 = pd.Series(list('abcedfghijklmnopqrstuvwxyz'))<br>\n",
        "ser2 = pd.Series(np.arange(26))<br>"
      ]
    },
    {
      "cell_type": "code",
      "metadata": {
        "colab": {
          "base_uri": "https://localhost:8080/"
        },
        "id": "U_1cXIef2SN8",
        "outputId": "f0d6ee4d-a8e2-4e86-a11a-303d2d99961f"
      },
      "source": [
        "ser1 = pd.Series(list('abcedfghijklmnopqrstuvwxyz'))\n",
        "ser2 = pd.Series(np.arange(26))\n",
        "print(ser1)\n",
        "print(\"\\n\")\n",
        "print(ser2)\n",
        "print(\"\\n\")\n",
        "\n",
        "df1=pd.concat([ser1, ser2], axis=1)\n",
        "print(df1)\n",
        "print(\"\\n\")\n",
        "df2=pd.DataFrame(\n",
        "        {\n",
        "          \"col1\":ser1,\n",
        "          \"col2\":ser2       \n",
        "  }  \n",
        ")\n",
        "print(df2)"
      ],
      "execution_count": 9,
      "outputs": [
        {
          "output_type": "stream",
          "name": "stdout",
          "text": [
            "0     a\n",
            "1     b\n",
            "2     c\n",
            "3     e\n",
            "4     d\n",
            "5     f\n",
            "6     g\n",
            "7     h\n",
            "8     i\n",
            "9     j\n",
            "10    k\n",
            "11    l\n",
            "12    m\n",
            "13    n\n",
            "14    o\n",
            "15    p\n",
            "16    q\n",
            "17    r\n",
            "18    s\n",
            "19    t\n",
            "20    u\n",
            "21    v\n",
            "22    w\n",
            "23    x\n",
            "24    y\n",
            "25    z\n",
            "dtype: object\n",
            "\n",
            "\n",
            "0      0\n",
            "1      1\n",
            "2      2\n",
            "3      3\n",
            "4      4\n",
            "5      5\n",
            "6      6\n",
            "7      7\n",
            "8      8\n",
            "9      9\n",
            "10    10\n",
            "11    11\n",
            "12    12\n",
            "13    13\n",
            "14    14\n",
            "15    15\n",
            "16    16\n",
            "17    17\n",
            "18    18\n",
            "19    19\n",
            "20    20\n",
            "21    21\n",
            "22    22\n",
            "23    23\n",
            "24    24\n",
            "25    25\n",
            "dtype: int64\n",
            "\n",
            "\n",
            "    0   1\n",
            "0   a   0\n",
            "1   b   1\n",
            "2   c   2\n",
            "3   e   3\n",
            "4   d   4\n",
            "5   f   5\n",
            "6   g   6\n",
            "7   h   7\n",
            "8   i   8\n",
            "9   j   9\n",
            "10  k  10\n",
            "11  l  11\n",
            "12  m  12\n",
            "13  n  13\n",
            "14  o  14\n",
            "15  p  15\n",
            "16  q  16\n",
            "17  r  17\n",
            "18  s  18\n",
            "19  t  19\n",
            "20  u  20\n",
            "21  v  21\n",
            "22  w  22\n",
            "23  x  23\n",
            "24  y  24\n",
            "25  z  25\n",
            "\n",
            "\n",
            "   col1  col2\n",
            "0     a     0\n",
            "1     b     1\n",
            "2     c     2\n",
            "3     e     3\n",
            "4     d     4\n",
            "5     f     5\n",
            "6     g     6\n",
            "7     h     7\n",
            "8     i     8\n",
            "9     j     9\n",
            "10    k    10\n",
            "11    l    11\n",
            "12    m    12\n",
            "13    n    13\n",
            "14    o    14\n",
            "15    p    15\n",
            "16    q    16\n",
            "17    r    17\n",
            "18    s    18\n",
            "19    t    19\n",
            "20    u    20\n",
            "21    v    21\n",
            "22    w    22\n",
            "23    x    23\n",
            "24    y    24\n",
            "25    z    25\n"
          ]
        }
      ]
    }
  ]
}